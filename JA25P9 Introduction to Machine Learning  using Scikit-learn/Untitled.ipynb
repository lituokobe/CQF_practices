{
 "cells": [
  {
   "cell_type": "code",
   "execution_count": 11,
   "id": "8dadcb12-58fa-4eb2-a498-3427646feb48",
   "metadata": {},
   "outputs": [],
   "source": [
    "from sklearn.linear_model import LinearRegression\n",
    "from sklearn.model_selection import train_test_split\n",
    "from sklearn.metrics import r2_score"
   ]
  },
  {
   "cell_type": "code",
   "execution_count": 3,
   "id": "fdb4ddf9-3d6d-4753-b21d-550a2684aace",
   "metadata": {},
   "outputs": [],
   "source": [
    "import pandas as pd\n",
    "boston_data = pd.read_csv('https://raw.githubusercontent.com/kannansingaravelu/datasets/refs/heads/main/boston.csv') \n",
    "# Define feature and target\n",
    "X = boston_data.drop('medv', axis=1)      # Feature\n",
    "y = boston_data['medv'] \n",
    "\n",
    "\n"
   ]
  },
  {
   "cell_type": "code",
   "execution_count": 10,
   "id": "4eef10bb-471a-41bc-a61e-48208768735c",
   "metadata": {},
   "outputs": [
    {
     "name": "stdout",
     "output_type": "stream",
     "text": [
      "R² Train: 0.7968435831826581\n",
      "R² Test: 0.6678192025831652\n"
     ]
    }
   ],
   "source": [
    "# Example data\n",
    "X_train, X_test, y_train, y_test = train_test_split(X, y, test_size=0.8, random_state=78)\n",
    "\n",
    "# Linear regression model\n",
    "model = LinearRegression()\n",
    "model.fit(X_train, y_train)\n",
    "\n",
    "# R² Scores\n",
    "r2_train = model.score(X_train, y_train)\n",
    "r2_test = model.score(X_test, y_test)\n",
    "\n",
    "print(\"R² Train:\", r2_train)\n",
    "print(\"R² Test:\", r2_test)"
   ]
  },
  {
   "cell_type": "code",
   "execution_count": 34,
   "id": "7ca62812-7dd6-4863-a76b-eb431194d31e",
   "metadata": {},
   "outputs": [
    {
     "data": {
      "text/plain": [
       "-0.011093750000000568"
      ]
     },
     "execution_count": 34,
     "metadata": {},
     "output_type": "execute_result"
    }
   ],
   "source": [
    "#a = 30.9625\n",
    "a = 4.0375\n",
    "a*a-35*a+125"
   ]
  },
  {
   "cell_type": "code",
   "execution_count": 35,
   "id": "96bec845-f772-43ed-b81d-f6d7d424f905",
   "metadata": {},
   "outputs": [
    {
     "data": {
      "text/plain": [
       "-0.011093750000000568"
      ]
     },
     "execution_count": 35,
     "metadata": {},
     "output_type": "execute_result"
    }
   ],
   "source": [
    "a*a-35*a+125"
   ]
  },
  {
   "cell_type": "code",
   "execution_count": null,
   "id": "6ae65d16-4f75-4d51-84d8-d3b653cddf46",
   "metadata": {},
   "outputs": [],
   "source": []
  }
 ],
 "metadata": {
  "kernelspec": {
   "display_name": "Python 3 (ipykernel)",
   "language": "python",
   "name": "python3"
  },
  "language_info": {
   "codemirror_mode": {
    "name": "ipython",
    "version": 3
   },
   "file_extension": ".py",
   "mimetype": "text/x-python",
   "name": "python",
   "nbconvert_exporter": "python",
   "pygments_lexer": "ipython3",
   "version": "3.10.16"
  }
 },
 "nbformat": 4,
 "nbformat_minor": 5
}

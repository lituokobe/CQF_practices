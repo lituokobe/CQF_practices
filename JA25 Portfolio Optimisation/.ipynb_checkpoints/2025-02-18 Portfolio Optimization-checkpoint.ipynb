{
 "cells": [
  {
   "cell_type": "markdown",
   "id": "f44239a6-09a3-4369-820e-6d487958c6cf",
   "metadata": {},
   "source": [
    "## Portfolio Optimization ##"
   ]
  },
  {
   "cell_type": "code",
   "execution_count": null,
   "id": "892df5f6-9b80-44f3-bd78-b0f153b79b0b",
   "metadata": {},
   "outputs": [],
   "source": []
  }
 ],
 "metadata": {
  "kernelspec": {
   "display_name": "Python 3 (ipykernel)",
   "language": "python",
   "name": "python3"
  },
  "language_info": {
   "codemirror_mode": {
    "name": "ipython",
    "version": 3
   },
   "file_extension": ".py",
   "mimetype": "text/x-python",
   "name": "python",
   "nbconvert_exporter": "python",
   "pygments_lexer": "ipython3",
   "version": "3.10.16"
  }
 },
 "nbformat": 4,
 "nbformat_minor": 5
}

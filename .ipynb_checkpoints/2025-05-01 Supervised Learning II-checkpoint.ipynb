{
 "cells": [
  {
   "cell_type": "markdown",
   "id": "4be6a54d-7793-4c82-9d94-8d6a769b0ede",
   "metadata": {},
   "source": [
    "## Exercise 3 ##\n",
    "Generate a training dataset containing 30 observations with two predictors centered around -0.5\n",
    "and 0.5 with a cluster standard deviation of 0.4 and one qualitative response variable. Define\n",
    "classes that takes ‘Red’ when response variable is positive and ‘Blue’ otherwise. Use this generated\n",
    "dataset to make a prediction for y when X1 = X2 = 0.25 using K-nearest neighbours.\n",
    "- a) Compute the Euclidean distance between each observations and the test points.\n",
    "- b) What is the class prediction with K = 1?\n",
    "- c) What is the class prediction with K = 5?\n",
    "- d) Plot the classification points with decision boundary for K = 5."
   ]
  },
  {
   "cell_type": "code",
   "execution_count": 1,
   "id": "3790f9e8-9171-4b50-9106-ac9ed865a2f0",
   "metadata": {},
   "outputs": [],
   "source": [
    "# Import libraries\n",
    "import pandas as pd\n",
    "import numpy as np\n",
    "# Import plotting library\n",
    "1\n",
    "import matplotlib.pyplot as plt\n",
    "# Preprocessing\n",
    "from sklearn.preprocessing import StandardScaler\n",
    "from sklearn.pipeline import Pipeline\n",
    "from sklearn.datasets import make_blobs\n",
    "from sklearn.neighbors import KNeighborsClassifier\n",
    "from sklearn.metrics.pairwise import euclidean_distances"
   ]
  },
  {
   "cell_type": "code",
   "execution_count": null,
   "id": "79091d92-462e-4628-b248-76b70dd60b0d",
   "metadata": {},
   "outputs": [],
   "source": []
  }
 ],
 "metadata": {
  "kernelspec": {
   "display_name": "Python 3 (ipykernel)",
   "language": "python",
   "name": "python3"
  },
  "language_info": {
   "codemirror_mode": {
    "name": "ipython",
    "version": 3
   },
   "file_extension": ".py",
   "mimetype": "text/x-python",
   "name": "python",
   "nbconvert_exporter": "python",
   "pygments_lexer": "ipython3",
   "version": "3.10.16"
  }
 },
 "nbformat": 4,
 "nbformat_minor": 5
}

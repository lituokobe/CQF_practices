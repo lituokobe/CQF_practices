{
 "cells": [
  {
   "cell_type": "code",
   "execution_count": 1,
   "id": "be35fc0f-b5d2-4992-8254-6abed562d9aa",
   "metadata": {},
   "outputs": [
    {
     "name": "stdout",
     "output_type": "stream",
     "text": [
      "Approximate Largest Eigenvalue: 5.0000012194316135\n",
      "Corresponding Eigenvector: [0.70710764 0.70710592]\n"
     ]
    }
   ],
   "source": [
    "import numpy as np\n",
    "\n",
    "# Define the matrix\n",
    "A = np.array([[4, 1],\n",
    "              [2, 3]])\n",
    "\n",
    "# Initialize a random vector (non-zero)\n",
    "v = np.random.rand(2)\n",
    "\n",
    "# Normalize the initial vector\n",
    "v = v / np.linalg.norm(v)\n",
    "\n",
    "# Number of iterations\n",
    "num_iterations = 100\n",
    "tolerance = 1e-6\n",
    "\n",
    "# Power Iteration\n",
    "for _ in range(num_iterations):\n",
    "    # Matrix-vector multiplication\n",
    "    w = np.dot(A, v)\n",
    "    \n",
    "    # Normalize the resulting vector\n",
    "    v_new = w / np.linalg.norm(w)\n",
    "    \n",
    "    # Check for convergence\n",
    "    if np.linalg.norm(v_new - v) < tolerance:\n",
    "        break\n",
    "    \n",
    "    v = v_new\n",
    "\n",
    "# Approximation of the largest eigenvalue\n",
    "eigenvalue = np.dot(v.T, np.dot(A, v))\n",
    "print(\"Approximate Largest Eigenvalue:\", eigenvalue)\n",
    "print(\"Corresponding Eigenvector:\", v)\n"
   ]
  },
  {
   "cell_type": "code",
   "execution_count": 3,
   "id": "045a3c7a-be46-42b2-9535-e7c1c5cb0f4b",
   "metadata": {},
   "outputs": [
    {
     "name": "stdout",
     "output_type": "stream",
     "text": [
      "U:\n",
      " [[ 0.85065081 -0.52573111]\n",
      " [ 0.52573111  0.85065081]] \n",
      "S:\n",
      " [1.61803399 0.61803399] \n",
      "Vt:\n",
      " [[ 0.52573111  0.85065081]\n",
      " [-0.85065081  0.52573111]]\n"
     ]
    }
   ],
   "source": [
    "A = np.array([[1, 1], [0, 1]])\n",
    "U, S, Vt = np.linalg.svd(A)\n",
    "print(\"U:\\n\", U, \"\\nS:\\n\", S, \"\\nVt:\\n\", Vt)"
   ]
  },
  {
   "cell_type": "code",
   "execution_count": null,
   "id": "4211c40a-4c73-430d-82ea-6bfd50095ee4",
   "metadata": {},
   "outputs": [],
   "source": []
  }
 ],
 "metadata": {
  "kernelspec": {
   "display_name": "Python 3 (ipykernel)",
   "language": "python",
   "name": "python3"
  },
  "language_info": {
   "codemirror_mode": {
    "name": "ipython",
    "version": 3
   },
   "file_extension": ".py",
   "mimetype": "text/x-python",
   "name": "python",
   "nbconvert_exporter": "python",
   "pygments_lexer": "ipython3",
   "version": "3.10.16"
  }
 },
 "nbformat": 4,
 "nbformat_minor": 5
}

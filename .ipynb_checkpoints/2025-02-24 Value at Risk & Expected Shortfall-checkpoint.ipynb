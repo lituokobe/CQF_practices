{
 "cells": [
  {
   "cell_type": "code",
   "execution_count": 1,
   "id": "1530f9ed-5726-4f8e-b792-1989383e770f",
   "metadata": {},
   "outputs": [],
   "source": [
    "import numpy as np"
   ]
  },
  {
   "cell_type": "code",
   "execution_count": 2,
   "id": "709f2ee9-8cad-43b8-9fc1-3f4de4c4f2b3",
   "metadata": {},
   "outputs": [],
   "source": [
    "diag = np.array([[0.0224, 0], [0, 0.0224]])\n",
    "rho = np.array([[1, 0.3], [0.3,1]])"
   ]
  },
  {
   "cell_type": "code",
   "execution_count": 3,
   "id": "d0a7e5c0-2e56-490b-ba12-ed3349cebfaa",
   "metadata": {},
   "outputs": [],
   "source": [
    "SIGMA = diag@rho@diag"
   ]
  },
  {
   "cell_type": "code",
   "execution_count": 4,
   "id": "5a85464a-b666-435f-931e-f6bfe7497854",
   "metadata": {},
   "outputs": [
    {
     "data": {
      "text/plain": [
       "array([[0.00050176, 0.00015053],\n",
       "       [0.00015053, 0.00050176]])"
      ]
     },
     "execution_count": 4,
     "metadata": {},
     "output_type": "execute_result"
    }
   ],
   "source": [
    "SIGMA"
   ]
  },
  {
   "cell_type": "code",
   "execution_count": 6,
   "id": "fdf9b407-16e2-48a3-b651-1a9b6bd13780",
   "metadata": {},
   "outputs": [],
   "source": [
    "X = np.array([[0.5], [0.5]])"
   ]
  },
  {
   "cell_type": "code",
   "execution_count": 11,
   "id": "f9b1e587-4c49-49ba-bc01-0b107b5231c3",
   "metadata": {},
   "outputs": [
    {
     "data": {
      "text/plain": [
       "array([[8.41570713]])"
      ]
     },
     "execution_count": 11,
     "metadata": {},
     "output_type": "execute_result"
    }
   ],
   "source": [
    "2.33*np.sqrt(X.T@SIGMA@X)*200"
   ]
  },
  {
   "cell_type": "markdown",
   "id": "cd99d485-4fe4-415c-ad92-31087b56eac1",
   "metadata": {},
   "source": [
    "$$ \\phi(1.645) = \\frac{1}{\\sqrt{2\\pi}} e{-\\frac{(1.645)2}{2}} \\ $$"
   ]
  },
  {
   "cell_type": "code",
   "execution_count": null,
   "id": "24471df3-bba5-4b4b-b5ac-71a61bf9ea6d",
   "metadata": {},
   "outputs": [],
   "source": []
  }
 ],
 "metadata": {
  "kernelspec": {
   "display_name": "Python 3 (ipykernel)",
   "language": "python",
   "name": "python3"
  },
  "language_info": {
   "codemirror_mode": {
    "name": "ipython",
    "version": 3
   },
   "file_extension": ".py",
   "mimetype": "text/x-python",
   "name": "python",
   "nbconvert_exporter": "python",
   "pygments_lexer": "ipython3",
   "version": "3.10.16"
  }
 },
 "nbformat": 4,
 "nbformat_minor": 5
}

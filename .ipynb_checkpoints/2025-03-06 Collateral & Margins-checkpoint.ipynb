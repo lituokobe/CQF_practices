{
 "cells": [
  {
   "cell_type": "code",
   "execution_count": 8,
   "id": "7a24d540-e493-47e9-94e3-4521c74ef35f",
   "metadata": {},
   "outputs": [],
   "source": [
    "import numpy as np\n",
    "from scipy.stats import norm"
   ]
  },
  {
   "cell_type": "markdown",
   "id": "9c4755ed-2d14-4358-98c4-9835f6a6ac2b",
   "metadata": {},
   "source": [
    "## 1-a ##"
   ]
  },
  {
   "cell_type": "code",
   "execution_count": 4,
   "id": "f409bf37-78bf-4f07-a99c-9235be82d4f5",
   "metadata": {},
   "outputs": [
    {
     "data": {
      "text/plain": [
       "1263810.0"
      ]
     },
     "execution_count": 4,
     "metadata": {},
     "output_type": "execute_result"
    }
   ],
   "source": [
    "16000000*((-0.01) + (2.32635)*0.03 + 0.5*(0.0035+2.32635*0.015))"
   ]
  },
  {
   "cell_type": "code",
   "execution_count": 3,
   "id": "78c9449d-f0fd-4fa2-abcc-874044718590",
   "metadata": {},
   "outputs": [
    {
     "data": {
      "text/plain": [
       "0.019197625000000003"
      ]
     },
     "execution_count": 3,
     "metadata": {},
     "output_type": "execute_result"
    }
   ],
   "source": [
    "0.5*(0.0035+2.32635*0.015)"
   ]
  },
  {
   "cell_type": "markdown",
   "id": "3d90e7d2-4d6e-43a0-9087-49ff382e42ae",
   "metadata": {},
   "source": [
    "## 1-b ##"
   ]
  },
  {
   "cell_type": "code",
   "execution_count": 5,
   "id": "00589667-86ab-4773-8ed6-7b4826f415a0",
   "metadata": {},
   "outputs": [
    {
     "data": {
      "text/plain": [
       "220000.00000000003"
      ]
     },
     "execution_count": 5,
     "metadata": {},
     "output_type": "execute_result"
    }
   ],
   "source": [
    "(125-15)*0.0001*0.5*40000000"
   ]
  },
  {
   "cell_type": "markdown",
   "id": "9f09b205-71d8-4e87-939e-925a8d6e7d74",
   "metadata": {},
   "source": [
    "LVaR will increase 220K"
   ]
  },
  {
   "cell_type": "markdown",
   "id": "4cd10091-30db-46cc-b0b9-6023bd745c13",
   "metadata": {},
   "source": [
    "# 2 #"
   ]
  },
  {
   "cell_type": "markdown",
   "id": "e1fcceb7-da37-406e-b4ac-60c558445404",
   "metadata": {},
   "source": [
    "Calculate Pr(L<=0.05) as follows"
   ]
  },
  {
   "cell_type": "code",
   "execution_count": 18,
   "id": "4a5b92c3-c6aa-40bc-9745-c1d4270c35bd",
   "metadata": {},
   "outputs": [
    {
     "data": {
      "text/plain": [
       "np.float64(0.147032688633574)"
      ]
     },
     "execution_count": 18,
     "metadata": {},
     "output_type": "execute_result"
    }
   ],
   "source": [
    "L1 = norm.cdf((norm.ppf(0.05)-np.sqrt(0.1)*norm.ppf(0.02))/np.sqrt(1-0.1))\n",
    "L1"
   ]
  },
  {
   "cell_type": "markdown",
   "id": "3c4d4893-6366-4e8c-9fed-16475909e5b3",
   "metadata": {},
   "source": [
    "So Pr(L>0.05) will be:"
   ]
  },
  {
   "cell_type": "code",
   "execution_count": 19,
   "id": "fb224a97-ad48-4355-a95b-8eaff2fca27b",
   "metadata": {},
   "outputs": [
    {
     "data": {
      "text/plain": [
       "np.float64(0.852967311366426)"
      ]
     },
     "execution_count": 19,
     "metadata": {},
     "output_type": "execute_result"
    }
   ],
   "source": [
    "1-L1"
   ]
  },
  {
   "cell_type": "markdown",
   "id": "cf8aecca-2530-4390-a085-de4b1e10b1b5",
   "metadata": {},
   "source": [
    "Next, see the original function at <b>JA252.6 Notes</b> page 47, in this question, we have:\n",
    "$$ L_{0.99} = \\Phi(\\Phi^{-1}(0.999)\\sqrt{\\rho}+\\Phi^{-1}(p)\\sqrt{1-\\rho})$$"
   ]
  },
  {
   "cell_type": "code",
   "execution_count": 20,
   "id": "a8760082-3e56-4993-8aa2-39454d5f9aab",
   "metadata": {},
   "outputs": [
    {
     "data": {
      "text/plain": [
       "np.float64(0.16573927585240306)"
      ]
     },
     "execution_count": 20,
     "metadata": {},
     "output_type": "execute_result"
    }
   ],
   "source": [
    "norm.cdf(norm.ppf(0.999)*np.sqrt(0.1) + norm.ppf(0.02)*np.sqrt(1-0.1))"
   ]
  },
  {
   "cell_type": "code",
   "execution_count": null,
   "id": "c69f4188-7377-4beb-9551-cb2bffd8b811",
   "metadata": {},
   "outputs": [],
   "source": []
  }
 ],
 "metadata": {
  "kernelspec": {
   "display_name": "Python 3 (ipykernel)",
   "language": "python",
   "name": "python3"
  },
  "language_info": {
   "codemirror_mode": {
    "name": "ipython",
    "version": 3
   },
   "file_extension": ".py",
   "mimetype": "text/x-python",
   "name": "python",
   "nbconvert_exporter": "python",
   "pygments_lexer": "ipython3",
   "version": "3.10.16"
  }
 },
 "nbformat": 4,
 "nbformat_minor": 5
}

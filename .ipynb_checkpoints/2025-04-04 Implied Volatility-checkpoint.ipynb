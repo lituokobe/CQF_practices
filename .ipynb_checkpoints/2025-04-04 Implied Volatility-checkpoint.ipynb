{
 "cells": [
  {
   "cell_type": "code",
   "execution_count": 1,
   "id": "173beb22-a57d-42d4-ac00-8b66768664fa",
   "metadata": {},
   "outputs": [],
   "source": [
    "# Import libraries\n",
    "from numpy import *\n",
    "import pandas as pd\n",
    "from tabulate import tabulate\n",
    "import matplotlib.pyplot as plt\n",
    "from datetime import date, datetime, timedelta\n",
    "\n",
    "from quantmod.derivatives import OptionData \n",
    "from quantmod.models import OptionInputs, BlackScholesOptionPricing"
   ]
  },
  {
   "cell_type": "markdown",
   "id": "3be2aefc-05e6-4e41-8b64-12903e112bff",
   "metadata": {},
   "source": [
    "Newton method"
   ]
  },
  {
   "cell_type": "code",
   "execution_count": 2,
   "id": "6333e044-27a7-4891-9deb-611f42eb5483",
   "metadata": {},
   "outputs": [],
   "source": [
    "def newton_iv(spot, strike, rate, dte, callprice=None, putprice=None):\n",
    "\n",
    "    x0 =1.                                      # initial guess, type float\n",
    "    h = 0.001                                   # step size \n",
    "    tolerance = 1e-7                            # 7-digit accuracy is desired\n",
    "    epsilon = 1e-14                             # do not divide by a number smaller than this, some kind of error / floor\n",
    "    maxiter = 200                               # maximum number of iterations to execute\n",
    "    \n",
    "    # function whose root we are trying to find\n",
    "    # f(x) = Black Scholes Call price - Market Price - defining the f(x) here\n",
    "    if callprice:\n",
    "        f = lambda x: BlackScholesOptionPricing(OptionInputs(spot=spot, strike=strike, rate=rate, ttm=dte, volatility=x)).call_price - callprice\n",
    "    if putprice:\n",
    "        f = lambda x: BlackScholesOptionPricing(OptionInputs(spot=spot, strike=strike, rate=rate, ttm=dte, volatility=x)).putPrice - putprice\n",
    "        \n",
    "    for i in range(maxiter):\n",
    "        y = f(x0)                               # starting with initial guess\n",
    "        yprime = (f(x0+h) - f(x0-h))/(2*h)      # central difference, the derivative of the function\n",
    "        \n",
    "        if abs(yprime)<epsilon:                 # stop if the denominator is too small\n",
    "            break                              \n",
    "        x1 = x0 - y/yprime                      # perform Newton's computation\n",
    "        \n",
    "        if (abs(x1-x0) <= tolerance*abs(x1)):   # stop when the result is within the desired tolerance\n",
    "            break\n",
    "        x0=x1                                   # update x0 to start the process again\n",
    "        \n",
    "    return x1                                   # x1 is a solution within tolerance and maximum number of iterations"
   ]
  },
  {
   "cell_type": "code",
   "execution_count": 3,
   "id": "49b983d8-834e-438e-9ebf-3d9a7f6bf67c",
   "metadata": {},
   "outputs": [
    {
     "data": {
      "text/plain": [
       "np.float64(0.1337758258895356)"
      ]
     },
     "execution_count": 3,
     "metadata": {},
     "output_type": "execute_result"
    }
   ],
   "source": [
    "# newton iv\n",
    "newton_iv(100,100,0.05,1, callprice=8)"
   ]
  },
  {
   "cell_type": "code",
   "execution_count": 10,
   "id": "55fe7c52-dfd4-43fb-b2c8-939588782210",
   "metadata": {},
   "outputs": [
    {
     "data": {
      "text/plain": [
       "np.float64(7.9999999999999645)"
      ]
     },
     "execution_count": 10,
     "metadata": {},
     "output_type": "execute_result"
    }
   ],
   "source": [
    "# verfiy the output\n",
    "BlackScholesOptionPricing(OptionInputs(spot=100, strike=100, rate=0.05, ttm=1, volatility=0.13377582588953527)).call_price"
   ]
  },
  {
   "cell_type": "code",
   "execution_count": 8,
   "id": "0b050c76-6a52-4f2c-ba5c-3058a85352ee",
   "metadata": {},
   "outputs": [
    {
     "data": {
      "text/plain": [
       "np.float64(31.12807296330671)"
      ]
     },
     "execution_count": 8,
     "metadata": {},
     "output_type": "execute_result"
    }
   ],
   "source": [
    "newton_iv(100,100,0.05,1, callprice=6)"
   ]
  },
  {
   "cell_type": "code",
   "execution_count": 11,
   "id": "02a59e65-590f-423e-9fcf-ef714ae39092",
   "metadata": {},
   "outputs": [
    {
     "data": {
      "text/plain": [
       "np.float64(100.0)"
      ]
     },
     "execution_count": 11,
     "metadata": {},
     "output_type": "execute_result"
    }
   ],
   "source": [
    "# verfiy the output\n",
    "BlackScholesOptionPricing(OptionInputs(spot=100, strike=100, rate=0.05, ttm=1, volatility=31.12807296330671)).call_price"
   ]
  },
  {
   "cell_type": "code",
   "execution_count": 9,
   "id": "f598df7b-bac8-4e38-b2e4-97d177278fd8",
   "metadata": {},
   "outputs": [
    {
     "data": {
      "text/plain": [
       "np.float64(0.16108539523040705)"
      ]
     },
     "execution_count": 9,
     "metadata": {},
     "output_type": "execute_result"
    }
   ],
   "source": [
    "newton_iv(100,100,0.05,1, callprice=9)"
   ]
  },
  {
   "cell_type": "code",
   "execution_count": 12,
   "id": "55c32a71-a209-442d-ad22-361b889a7f27",
   "metadata": {},
   "outputs": [
    {
     "data": {
      "text/plain": [
       "np.float64(8.999999999999986)"
      ]
     },
     "execution_count": 12,
     "metadata": {},
     "output_type": "execute_result"
    }
   ],
   "source": [
    "BlackScholesOptionPricing(OptionInputs(spot=100, strike=100, rate=0.05, ttm=1, volatility=0.16108539523040705)).call_price"
   ]
  },
  {
   "cell_type": "code",
   "execution_count": 13,
   "id": "6cc334c9-8b1d-4490-a8d3-34a73cf5a6e3",
   "metadata": {},
   "outputs": [
    {
     "data": {
      "text/plain": [
       "np.float64(0.15038818625996891)"
      ]
     },
     "execution_count": 13,
     "metadata": {},
     "output_type": "execute_result"
    }
   ],
   "source": [
    "newton_iv(100,100,0.03,1, callprice=7.5)"
   ]
  },
  {
   "cell_type": "code",
   "execution_count": 17,
   "id": "9d876376-8b68-4ad6-827a-d396d37368ca",
   "metadata": {},
   "outputs": [
    {
     "data": {
      "text/plain": [
       "np.float64(7.499999999999993)"
      ]
     },
     "execution_count": 17,
     "metadata": {},
     "output_type": "execute_result"
    }
   ],
   "source": [
    "BlackScholesOptionPricing(OptionInputs(spot=100, strike=100, rate=0.03, ttm=1, volatility=0.15038818625996891)).call_price"
   ]
  },
  {
   "cell_type": "markdown",
   "id": "2f1beca6-0df9-4c94-a2ab-e00f1c682b01",
   "metadata": {},
   "source": [
    "Bisection method"
   ]
  },
  {
   "cell_type": "code",
   "execution_count": 15,
   "id": "3d8d9965-eb50-4216-91e1-94cda983a54f",
   "metadata": {},
   "outputs": [],
   "source": [
    "# Bisection Method\n",
    "def bisection_iv(spot, strike, rate, dte, callprice=None, putprice=None, high=500.0, low=0.0):\n",
    "    \n",
    "    # this is market price\n",
    "    if callprice:\n",
    "        market_price = callprice\n",
    "    if putprice and not callprice:\n",
    "        market_price = putprice\n",
    "        \n",
    "    tolerance = 1e-7\n",
    "        \n",
    "    for i in range(1000):\n",
    "        mid = (high + low) / 2             # c= (a+b)/2\n",
    "        if mid < tolerance:\n",
    "            mid = tolerance\n",
    "            \n",
    "        if callprice:\n",
    "            blackscholes_price = BlackScholesOptionPricing(OptionInputs(spot = spot,strike = strike,rate = rate,ttm = dte,volatility = mid,)).call_price\n",
    "        if putprice:\n",
    "            blackscholes_price = BlackScholesOptionPricing(OptionInputs(spot = spot,strike = strike,rate = rate,ttm = dte,volatility = mid,)).put_price\n",
    "        \n",
    "        if round(blackscholes_price,7) == market_price:\n",
    "            break\n",
    "        elif blackscholes_price > market_price: \n",
    "            high = mid                      # replace c with b | b = c\n",
    "        elif blackscholes_price < market_price: \n",
    "            low = mid                       # replace c with a | a = c\n",
    "    \n",
    "    return mid"
   ]
  },
  {
   "cell_type": "code",
   "execution_count": 16,
   "id": "5bbb837a-9092-48bc-8448-059860c1a3ad",
   "metadata": {},
   "outputs": [
    {
     "data": {
      "text/plain": [
       "0.17657213902566582"
      ]
     },
     "execution_count": 16,
     "metadata": {},
     "output_type": "execute_result"
    }
   ],
   "source": [
    "# bisection iv\n",
    "bisection_iv(100,100,0.02,1,callprice=8.)"
   ]
  },
  {
   "cell_type": "code",
   "execution_count": 18,
   "id": "d24970e1-dd67-4c2a-94b6-25c8846c0a0e",
   "metadata": {},
   "outputs": [
    {
     "data": {
      "text/plain": [
       "np.float64(8.000000027820803)"
      ]
     },
     "execution_count": 18,
     "metadata": {},
     "output_type": "execute_result"
    }
   ],
   "source": [
    "BlackScholesOptionPricing(OptionInputs(spot=100, strike=100, rate=0.02, ttm=1, volatility=0.17657213902566582)).call_price"
   ]
  },
  {
   "cell_type": "markdown",
   "id": "519dff5e-0427-445f-b984-b4e6eff54604",
   "metadata": {},
   "source": [
    "## BS Implied Volatility ##\n",
    "Let's now update our Blackscholes' class to incorporate implied volatility."
   ]
  },
  {
   "cell_type": "code",
   "execution_count": 19,
   "id": "53272615-c4ed-4297-9280-23124fb7919f",
   "metadata": {},
   "outputs": [
    {
     "name": "stdout",
     "output_type": "stream",
     "text": [
      "  Option Price    Delta      Gamma      Theta      Vega       Rho        IV\n",
      "--------------  -------  ---------  ---------  --------  --------  --------\n",
      "       8.91604  0.57926  0.0195521  -0.013399  0.391043  0.490099  0.176572\n"
     ]
    }
   ],
   "source": [
    "option = BlackScholesOptionPricing(OptionInputs(spot = 100, strike = 100, rate = 0.02, ttm = 1, volatility = 0.2, callprice=8))\n",
    "\n",
    "header = ['Option Price', 'Delta', 'Gamma', 'Theta', 'Vega', 'Rho', 'IV']\n",
    "table = [[option.call_price, option.call_delta, option.gamma, option.call_theta, option.vega, option.call_rho, option.impvol]]\n",
    "\n",
    "print(tabulate(table,header))"
   ]
  },
  {
   "cell_type": "code",
   "execution_count": 20,
   "id": "1701f3e7-43a1-471b-9729-2b966848cc70",
   "metadata": {},
   "outputs": [
    {
     "name": "stdout",
     "output_type": "stream",
     "text": [
      "  Option Price     Delta      Gamma        Theta      Vega        Rho        IV\n",
      "--------------  --------  ---------  -----------  --------  ---------  --------\n",
      "        6.9359  -0.42074  0.0195521  -0.00802802  0.391043  -0.490099  0.227215\n"
     ]
    }
   ],
   "source": [
    "# Initialize option\n",
    "option = BlackScholesOptionPricing(OptionInputs(spot = 100, strike = 100, rate = 0.02, ttm = 1, volatility = 0.2, putprice=8))\n",
    "\n",
    "header = ['Option Price', 'Delta', 'Gamma', 'Theta', 'Vega', 'Rho', 'IV']\n",
    "table = [[option.put_price, option.put_delta, option.gamma, option.put_theta, option.vega, option.put_rho, option.impvol]]\n",
    "\n",
    "print(tabulate(table,header))"
   ]
  },
  {
   "cell_type": "markdown",
   "id": "cfc08fe2-18c8-4fb5-aa75-9208157d5d85",
   "metadata": {},
   "source": [
    "## Nifty Option ##"
   ]
  },
  {
   "cell_type": "code",
   "execution_count": 57,
   "id": "efd51476-4849-4f03-9eb6-a22e09d01984",
   "metadata": {},
   "outputs": [
    {
     "ename": "JSONDecodeError",
     "evalue": "Expecting value: line 1 column 1 (char 0)",
     "output_type": "error",
     "traceback": [
      "\u001b[0;31m---------------------------------------------------------------------------\u001b[0m",
      "\u001b[0;31mJSONDecodeError\u001b[0m                           Traceback (most recent call last)",
      "File \u001b[0;32m/opt/anaconda3/envs/py310/lib/python3.10/site-packages/requests/models.py:974\u001b[0m, in \u001b[0;36mResponse.json\u001b[0;34m(self, **kwargs)\u001b[0m\n\u001b[1;32m    973\u001b[0m \u001b[38;5;28;01mtry\u001b[39;00m:\n\u001b[0;32m--> 974\u001b[0m     \u001b[38;5;28;01mreturn\u001b[39;00m \u001b[43mcomplexjson\u001b[49m\u001b[38;5;241;43m.\u001b[39;49m\u001b[43mloads\u001b[49m\u001b[43m(\u001b[49m\u001b[38;5;28;43mself\u001b[39;49m\u001b[38;5;241;43m.\u001b[39;49m\u001b[43mtext\u001b[49m\u001b[43m,\u001b[49m\u001b[43m \u001b[49m\u001b[38;5;241;43m*\u001b[39;49m\u001b[38;5;241;43m*\u001b[39;49m\u001b[43mkwargs\u001b[49m\u001b[43m)\u001b[49m\n\u001b[1;32m    975\u001b[0m \u001b[38;5;28;01mexcept\u001b[39;00m JSONDecodeError \u001b[38;5;28;01mas\u001b[39;00m e:\n\u001b[1;32m    976\u001b[0m     \u001b[38;5;66;03m# Catch JSON-related errors and raise as requests.JSONDecodeError\u001b[39;00m\n\u001b[1;32m    977\u001b[0m     \u001b[38;5;66;03m# This aliases json.JSONDecodeError and simplejson.JSONDecodeError\u001b[39;00m\n",
      "File \u001b[0;32m/opt/anaconda3/envs/py310/lib/python3.10/json/__init__.py:346\u001b[0m, in \u001b[0;36mloads\u001b[0;34m(s, cls, object_hook, parse_float, parse_int, parse_constant, object_pairs_hook, **kw)\u001b[0m\n\u001b[1;32m    343\u001b[0m \u001b[38;5;28;01mif\u001b[39;00m (\u001b[38;5;28mcls\u001b[39m \u001b[38;5;129;01mis\u001b[39;00m \u001b[38;5;28;01mNone\u001b[39;00m \u001b[38;5;129;01mand\u001b[39;00m object_hook \u001b[38;5;129;01mis\u001b[39;00m \u001b[38;5;28;01mNone\u001b[39;00m \u001b[38;5;129;01mand\u001b[39;00m\n\u001b[1;32m    344\u001b[0m         parse_int \u001b[38;5;129;01mis\u001b[39;00m \u001b[38;5;28;01mNone\u001b[39;00m \u001b[38;5;129;01mand\u001b[39;00m parse_float \u001b[38;5;129;01mis\u001b[39;00m \u001b[38;5;28;01mNone\u001b[39;00m \u001b[38;5;129;01mand\u001b[39;00m\n\u001b[1;32m    345\u001b[0m         parse_constant \u001b[38;5;129;01mis\u001b[39;00m \u001b[38;5;28;01mNone\u001b[39;00m \u001b[38;5;129;01mand\u001b[39;00m object_pairs_hook \u001b[38;5;129;01mis\u001b[39;00m \u001b[38;5;28;01mNone\u001b[39;00m \u001b[38;5;129;01mand\u001b[39;00m \u001b[38;5;129;01mnot\u001b[39;00m kw):\n\u001b[0;32m--> 346\u001b[0m     \u001b[38;5;28;01mreturn\u001b[39;00m \u001b[43m_default_decoder\u001b[49m\u001b[38;5;241;43m.\u001b[39;49m\u001b[43mdecode\u001b[49m\u001b[43m(\u001b[49m\u001b[43ms\u001b[49m\u001b[43m)\u001b[49m\n\u001b[1;32m    347\u001b[0m \u001b[38;5;28;01mif\u001b[39;00m \u001b[38;5;28mcls\u001b[39m \u001b[38;5;129;01mis\u001b[39;00m \u001b[38;5;28;01mNone\u001b[39;00m:\n",
      "File \u001b[0;32m/opt/anaconda3/envs/py310/lib/python3.10/json/decoder.py:337\u001b[0m, in \u001b[0;36mJSONDecoder.decode\u001b[0;34m(self, s, _w)\u001b[0m\n\u001b[1;32m    333\u001b[0m \u001b[38;5;250m\u001b[39m\u001b[38;5;124;03m\"\"\"Return the Python representation of ``s`` (a ``str`` instance\u001b[39;00m\n\u001b[1;32m    334\u001b[0m \u001b[38;5;124;03mcontaining a JSON document).\u001b[39;00m\n\u001b[1;32m    335\u001b[0m \n\u001b[1;32m    336\u001b[0m \u001b[38;5;124;03m\"\"\"\u001b[39;00m\n\u001b[0;32m--> 337\u001b[0m obj, end \u001b[38;5;241m=\u001b[39m \u001b[38;5;28;43mself\u001b[39;49m\u001b[38;5;241;43m.\u001b[39;49m\u001b[43mraw_decode\u001b[49m\u001b[43m(\u001b[49m\u001b[43ms\u001b[49m\u001b[43m,\u001b[49m\u001b[43m \u001b[49m\u001b[43midx\u001b[49m\u001b[38;5;241;43m=\u001b[39;49m\u001b[43m_w\u001b[49m\u001b[43m(\u001b[49m\u001b[43ms\u001b[49m\u001b[43m,\u001b[49m\u001b[43m \u001b[49m\u001b[38;5;241;43m0\u001b[39;49m\u001b[43m)\u001b[49m\u001b[38;5;241;43m.\u001b[39;49m\u001b[43mend\u001b[49m\u001b[43m(\u001b[49m\u001b[43m)\u001b[49m\u001b[43m)\u001b[49m\n\u001b[1;32m    338\u001b[0m end \u001b[38;5;241m=\u001b[39m _w(s, end)\u001b[38;5;241m.\u001b[39mend()\n",
      "File \u001b[0;32m/opt/anaconda3/envs/py310/lib/python3.10/json/decoder.py:355\u001b[0m, in \u001b[0;36mJSONDecoder.raw_decode\u001b[0;34m(self, s, idx)\u001b[0m\n\u001b[1;32m    354\u001b[0m \u001b[38;5;28;01mexcept\u001b[39;00m \u001b[38;5;167;01mStopIteration\u001b[39;00m \u001b[38;5;28;01mas\u001b[39;00m err:\n\u001b[0;32m--> 355\u001b[0m     \u001b[38;5;28;01mraise\u001b[39;00m JSONDecodeError(\u001b[38;5;124m\"\u001b[39m\u001b[38;5;124mExpecting value\u001b[39m\u001b[38;5;124m\"\u001b[39m, s, err\u001b[38;5;241m.\u001b[39mvalue) \u001b[38;5;28;01mfrom\u001b[39;00m \u001b[38;5;28;01mNone\u001b[39;00m\n\u001b[1;32m    356\u001b[0m \u001b[38;5;28;01mreturn\u001b[39;00m obj, end\n",
      "\u001b[0;31mJSONDecodeError\u001b[0m: Expecting value: line 1 column 1 (char 0)",
      "\nDuring handling of the above exception, another exception occurred:\n",
      "\u001b[0;31mJSONDecodeError\u001b[0m                           Traceback (most recent call last)",
      "Cell \u001b[0;32mIn[57], line 1\u001b[0m\n\u001b[0;32m----> 1\u001b[0m opt \u001b[38;5;241m=\u001b[39m \u001b[43mOptionData\u001b[49m\u001b[43m(\u001b[49m\u001b[38;5;124;43m\"\u001b[39;49m\u001b[38;5;124;43mNIFTY\u001b[39;49m\u001b[38;5;124;43m\"\u001b[39;49m\u001b[43m,\u001b[49m\u001b[43m \u001b[49m\u001b[38;5;124;43m\"\u001b[39;49m\u001b[38;5;124;43m24-Apr-2025\u001b[39;49m\u001b[38;5;124;43m\"\u001b[39;49m\u001b[43m)\u001b[49m\n",
      "File \u001b[0;32m/opt/anaconda3/envs/py310/lib/python3.10/site-packages/quantmod/derivatives/nse.py:121\u001b[0m, in \u001b[0;36mOptionData.__init__\u001b[0;34m(self, symbol, expiry_dt)\u001b[0m\n\u001b[1;32m    117\u001b[0m \u001b[38;5;28mself\u001b[39m\u001b[38;5;241m.\u001b[39mexpiry_dt \u001b[38;5;241m=\u001b[39m expiry_dt\n\u001b[1;32m    118\u001b[0m \u001b[38;5;28mself\u001b[39m\u001b[38;5;241m.\u001b[39msymbol \u001b[38;5;241m=\u001b[39m symbol\u001b[38;5;241m.\u001b[39mreplace(\n\u001b[1;32m    119\u001b[0m     \u001b[38;5;124m\"\u001b[39m\u001b[38;5;124m&\u001b[39m\u001b[38;5;124m\"\u001b[39m, \u001b[38;5;124m\"\u001b[39m\u001b[38;5;124m%\u001b[39m\u001b[38;5;124m26\u001b[39m\u001b[38;5;124m\"\u001b[39m\n\u001b[1;32m    120\u001b[0m )  \u001b[38;5;66;03m# URL Parse for Stocks Like M&M Finance\u001b[39;00m\n\u001b[0;32m--> 121\u001b[0m \u001b[38;5;28mself\u001b[39m\u001b[38;5;241m.\u001b[39mpayload \u001b[38;5;241m=\u001b[39m \u001b[38;5;28;43mself\u001b[39;49m\u001b[38;5;241;43m.\u001b[39;49m\u001b[43m_nse_optionchain_scrapper\u001b[49m\u001b[43m(\u001b[49m\u001b[43m)\u001b[49m\n\u001b[1;32m    123\u001b[0m \u001b[38;5;28mself\u001b[39m\u001b[38;5;241m.\u001b[39mget_put_call_ratio \u001b[38;5;241m=\u001b[39m \u001b[38;5;28mself\u001b[39m\u001b[38;5;241m.\u001b[39m_get_option_pcr()\n\u001b[1;32m    124\u001b[0m \u001b[38;5;28mself\u001b[39m\u001b[38;5;241m.\u001b[39mget_maximum_pain_strike \u001b[38;5;241m=\u001b[39m \u001b[38;5;28mself\u001b[39m\u001b[38;5;241m.\u001b[39m_get_maximum_pain_strike()\n",
      "File \u001b[0;32m/opt/anaconda3/envs/py310/lib/python3.10/site-packages/quantmod/derivatives/nse.py:138\u001b[0m, in \u001b[0;36mOptionData._nse_optionchain_scrapper\u001b[0;34m(self)\u001b[0m\n\u001b[1;32m    129\u001b[0m \u001b[38;5;250m\u001b[39m\u001b[38;5;124;03m\"\"\"\u001b[39;00m\n\u001b[1;32m    130\u001b[0m \u001b[38;5;124;03mFetch option chain data from NSE website.\u001b[39;00m\n\u001b[1;32m    131\u001b[0m \n\u001b[0;32m   (...)\u001b[0m\n\u001b[1;32m    135\u001b[0m \u001b[38;5;124;03m    Raw option chain data from NSE API\u001b[39;00m\n\u001b[1;32m    136\u001b[0m \u001b[38;5;124;03m\"\"\"\u001b[39;00m\n\u001b[1;32m    137\u001b[0m \u001b[38;5;28;01mif\u001b[39;00m \u001b[38;5;28many\u001b[39m(x \u001b[38;5;129;01min\u001b[39;00m \u001b[38;5;28mself\u001b[39m\u001b[38;5;241m.\u001b[39msymbol \u001b[38;5;28;01mfor\u001b[39;00m x \u001b[38;5;129;01min\u001b[39;00m indices):\n\u001b[0;32m--> 138\u001b[0m     payload \u001b[38;5;241m=\u001b[39m \u001b[43mnsefetch\u001b[49m\u001b[43m(\u001b[49m\n\u001b[1;32m    139\u001b[0m \u001b[43m        \u001b[49m\u001b[38;5;124;43m\"\u001b[39;49m\u001b[38;5;124;43mhttps://www.nseindia.com/api/option-chain-indices?symbol=\u001b[39;49m\u001b[38;5;124;43m\"\u001b[39;49m\n\u001b[1;32m    140\u001b[0m \u001b[43m        \u001b[49m\u001b[38;5;241;43m+\u001b[39;49m\u001b[43m \u001b[49m\u001b[38;5;28;43mself\u001b[39;49m\u001b[38;5;241;43m.\u001b[39;49m\u001b[43msymbol\u001b[49m\n\u001b[1;32m    141\u001b[0m \u001b[43m    \u001b[49m\u001b[43m)\u001b[49m\n\u001b[1;32m    142\u001b[0m \u001b[38;5;28;01melse\u001b[39;00m:\n\u001b[1;32m    143\u001b[0m     payload \u001b[38;5;241m=\u001b[39m nsefetch(\n\u001b[1;32m    144\u001b[0m         \u001b[38;5;124m\"\u001b[39m\u001b[38;5;124mhttps://www.nseindia.com/api/option-chain-equities?symbol=\u001b[39m\u001b[38;5;124m\"\u001b[39m\n\u001b[1;32m    145\u001b[0m         \u001b[38;5;241m+\u001b[39m \u001b[38;5;28mself\u001b[39m\u001b[38;5;241m.\u001b[39msymbol\n\u001b[1;32m    146\u001b[0m     )\n",
      "File \u001b[0;32m/opt/anaconda3/envs/py310/lib/python3.10/site-packages/quantmod/derivatives/nse.py:51\u001b[0m, in \u001b[0;36mnsefetch\u001b[0;34m(payload)\u001b[0m\n\u001b[1;32m     49\u001b[0m     s \u001b[38;5;241m=\u001b[39m requests\u001b[38;5;241m.\u001b[39mSession()\n\u001b[1;32m     50\u001b[0m     output \u001b[38;5;241m=\u001b[39m s\u001b[38;5;241m.\u001b[39mget(\u001b[38;5;124m\"\u001b[39m\u001b[38;5;124mhttp://nseindia.com\u001b[39m\u001b[38;5;124m\"\u001b[39m, headers\u001b[38;5;241m=\u001b[39mheaders)\n\u001b[0;32m---> 51\u001b[0m     output \u001b[38;5;241m=\u001b[39m \u001b[43ms\u001b[49m\u001b[38;5;241;43m.\u001b[39;49m\u001b[43mget\u001b[49m\u001b[43m(\u001b[49m\u001b[43mpayload\u001b[49m\u001b[43m,\u001b[49m\u001b[43m \u001b[49m\u001b[43mheaders\u001b[49m\u001b[38;5;241;43m=\u001b[39;49m\u001b[43mheaders\u001b[49m\u001b[43m)\u001b[49m\u001b[38;5;241;43m.\u001b[39;49m\u001b[43mjson\u001b[49m\u001b[43m(\u001b[49m\u001b[43m)\u001b[49m\n\u001b[1;32m     52\u001b[0m \u001b[38;5;28;01mreturn\u001b[39;00m output\n",
      "File \u001b[0;32m/opt/anaconda3/envs/py310/lib/python3.10/site-packages/requests/models.py:978\u001b[0m, in \u001b[0;36mResponse.json\u001b[0;34m(self, **kwargs)\u001b[0m\n\u001b[1;32m    974\u001b[0m     \u001b[38;5;28;01mreturn\u001b[39;00m complexjson\u001b[38;5;241m.\u001b[39mloads(\u001b[38;5;28mself\u001b[39m\u001b[38;5;241m.\u001b[39mtext, \u001b[38;5;241m*\u001b[39m\u001b[38;5;241m*\u001b[39mkwargs)\n\u001b[1;32m    975\u001b[0m \u001b[38;5;28;01mexcept\u001b[39;00m JSONDecodeError \u001b[38;5;28;01mas\u001b[39;00m e:\n\u001b[1;32m    976\u001b[0m     \u001b[38;5;66;03m# Catch JSON-related errors and raise as requests.JSONDecodeError\u001b[39;00m\n\u001b[1;32m    977\u001b[0m     \u001b[38;5;66;03m# This aliases json.JSONDecodeError and simplejson.JSONDecodeError\u001b[39;00m\n\u001b[0;32m--> 978\u001b[0m     \u001b[38;5;28;01mraise\u001b[39;00m RequestsJSONDecodeError(e\u001b[38;5;241m.\u001b[39mmsg, e\u001b[38;5;241m.\u001b[39mdoc, e\u001b[38;5;241m.\u001b[39mpos)\n",
      "\u001b[0;31mJSONDecodeError\u001b[0m: Expecting value: line 1 column 1 (char 0)"
     ]
    }
   ],
   "source": [
    "opt = OptionData(\"NIFTY\", \"24-Apr-2025\")"
   ]
  },
  {
   "cell_type": "code",
   "execution_count": 36,
   "id": "f3ef90da-da88-4d9f-976a-511b8ab8dfaa",
   "metadata": {},
   "outputs": [],
   "source": [
    "df = opt.get_call_option_data"
   ]
  },
  {
   "cell_type": "code",
   "execution_count": 37,
   "id": "2aa7c3a2-6e97-4ef9-8918-121890570ba2",
   "metadata": {},
   "outputs": [
    {
     "data": {
      "text/html": [
       "<div>\n",
       "<style scoped>\n",
       "    .dataframe tbody tr th:only-of-type {\n",
       "        vertical-align: middle;\n",
       "    }\n",
       "\n",
       "    .dataframe tbody tr th {\n",
       "        vertical-align: top;\n",
       "    }\n",
       "\n",
       "    .dataframe thead th {\n",
       "        text-align: right;\n",
       "    }\n",
       "</style>\n",
       "<table border=\"1\" class=\"dataframe\">\n",
       "  <thead>\n",
       "    <tr style=\"text-align: right;\">\n",
       "      <th></th>\n",
       "      <th>strikePrice</th>\n",
       "      <th>expiryDate</th>\n",
       "      <th>underlying</th>\n",
       "      <th>identifier</th>\n",
       "      <th>openInterest</th>\n",
       "      <th>changeinOpenInterest</th>\n",
       "      <th>pchangeinOpenInterest</th>\n",
       "      <th>totalTradedVolume</th>\n",
       "      <th>impliedVolatility</th>\n",
       "      <th>lastPrice</th>\n",
       "      <th>change</th>\n",
       "      <th>pChange</th>\n",
       "      <th>totalBuyQuantity</th>\n",
       "      <th>totalSellQuantity</th>\n",
       "      <th>bidQty</th>\n",
       "      <th>bidprice</th>\n",
       "      <th>askQty</th>\n",
       "      <th>askPrice</th>\n",
       "      <th>underlyingValue</th>\n",
       "    </tr>\n",
       "  </thead>\n",
       "  <tbody>\n",
       "    <tr>\n",
       "      <th>0</th>\n",
       "      <td>23500</td>\n",
       "      <td>24-Apr-2025</td>\n",
       "      <td>NIFTY</td>\n",
       "      <td>OPTIDXNIFTY24-04-2025CE23500.00</td>\n",
       "      <td>54741</td>\n",
       "      <td>-2741</td>\n",
       "      <td>-4.768449</td>\n",
       "      <td>99805</td>\n",
       "      <td>19.50</td>\n",
       "      <td>91.00</td>\n",
       "      <td>28.70</td>\n",
       "      <td>46.067416</td>\n",
       "      <td>44550</td>\n",
       "      <td>72825</td>\n",
       "      <td>225</td>\n",
       "      <td>90.6</td>\n",
       "      <td>900</td>\n",
       "      <td>92.00</td>\n",
       "      <td>22535.85</td>\n",
       "    </tr>\n",
       "    <tr>\n",
       "      <th>1</th>\n",
       "      <td>23550</td>\n",
       "      <td>24-Apr-2025</td>\n",
       "      <td>NIFTY</td>\n",
       "      <td>OPTIDXNIFTY24-04-2025CE23550.00</td>\n",
       "      <td>1621</td>\n",
       "      <td>78</td>\n",
       "      <td>5.055087</td>\n",
       "      <td>5431</td>\n",
       "      <td>19.61</td>\n",
       "      <td>84.00</td>\n",
       "      <td>26.75</td>\n",
       "      <td>46.724891</td>\n",
       "      <td>7725</td>\n",
       "      <td>3750</td>\n",
       "      <td>750</td>\n",
       "      <td>80.9</td>\n",
       "      <td>225</td>\n",
       "      <td>85.25</td>\n",
       "      <td>22535.85</td>\n",
       "    </tr>\n",
       "    <tr>\n",
       "      <th>2</th>\n",
       "      <td>23600</td>\n",
       "      <td>24-Apr-2025</td>\n",
       "      <td>NIFTY</td>\n",
       "      <td>OPTIDXNIFTY24-04-2025CE23600.00</td>\n",
       "      <td>16329</td>\n",
       "      <td>-478</td>\n",
       "      <td>-2.844053</td>\n",
       "      <td>29754</td>\n",
       "      <td>19.78</td>\n",
       "      <td>78.00</td>\n",
       "      <td>24.10</td>\n",
       "      <td>44.712430</td>\n",
       "      <td>9600</td>\n",
       "      <td>21225</td>\n",
       "      <td>600</td>\n",
       "      <td>76.0</td>\n",
       "      <td>300</td>\n",
       "      <td>78.90</td>\n",
       "      <td>22535.85</td>\n",
       "    </tr>\n",
       "    <tr>\n",
       "      <th>3</th>\n",
       "      <td>23650</td>\n",
       "      <td>24-Apr-2025</td>\n",
       "      <td>NIFTY</td>\n",
       "      <td>OPTIDXNIFTY24-04-2025CE23650.00</td>\n",
       "      <td>1377</td>\n",
       "      <td>-654</td>\n",
       "      <td>-32.200886</td>\n",
       "      <td>5018</td>\n",
       "      <td>19.70</td>\n",
       "      <td>70.00</td>\n",
       "      <td>20.90</td>\n",
       "      <td>42.566191</td>\n",
       "      <td>3525</td>\n",
       "      <td>2625</td>\n",
       "      <td>75</td>\n",
       "      <td>66.0</td>\n",
       "      <td>225</td>\n",
       "      <td>71.05</td>\n",
       "      <td>22535.85</td>\n",
       "    </tr>\n",
       "    <tr>\n",
       "      <th>4</th>\n",
       "      <td>23700</td>\n",
       "      <td>24-Apr-2025</td>\n",
       "      <td>NIFTY</td>\n",
       "      <td>OPTIDXNIFTY24-04-2025CE23700.00</td>\n",
       "      <td>18461</td>\n",
       "      <td>-894</td>\n",
       "      <td>-4.618962</td>\n",
       "      <td>23076</td>\n",
       "      <td>19.69</td>\n",
       "      <td>63.25</td>\n",
       "      <td>17.45</td>\n",
       "      <td>38.100437</td>\n",
       "      <td>8175</td>\n",
       "      <td>12225</td>\n",
       "      <td>375</td>\n",
       "      <td>62.0</td>\n",
       "      <td>225</td>\n",
       "      <td>64.00</td>\n",
       "      <td>22535.85</td>\n",
       "    </tr>\n",
       "  </tbody>\n",
       "</table>\n",
       "</div>"
      ],
      "text/plain": [
       "   strikePrice   expiryDate underlying                       identifier  \\\n",
       "0        23500  24-Apr-2025      NIFTY  OPTIDXNIFTY24-04-2025CE23500.00   \n",
       "1        23550  24-Apr-2025      NIFTY  OPTIDXNIFTY24-04-2025CE23550.00   \n",
       "2        23600  24-Apr-2025      NIFTY  OPTIDXNIFTY24-04-2025CE23600.00   \n",
       "3        23650  24-Apr-2025      NIFTY  OPTIDXNIFTY24-04-2025CE23650.00   \n",
       "4        23700  24-Apr-2025      NIFTY  OPTIDXNIFTY24-04-2025CE23700.00   \n",
       "\n",
       "   openInterest  changeinOpenInterest  pchangeinOpenInterest  \\\n",
       "0         54741                 -2741              -4.768449   \n",
       "1          1621                    78               5.055087   \n",
       "2         16329                  -478              -2.844053   \n",
       "3          1377                  -654             -32.200886   \n",
       "4         18461                  -894              -4.618962   \n",
       "\n",
       "   totalTradedVolume  impliedVolatility  lastPrice  change    pChange  \\\n",
       "0              99805              19.50      91.00   28.70  46.067416   \n",
       "1               5431              19.61      84.00   26.75  46.724891   \n",
       "2              29754              19.78      78.00   24.10  44.712430   \n",
       "3               5018              19.70      70.00   20.90  42.566191   \n",
       "4              23076              19.69      63.25   17.45  38.100437   \n",
       "\n",
       "   totalBuyQuantity  totalSellQuantity  bidQty  bidprice  askQty  askPrice  \\\n",
       "0             44550              72825     225      90.6     900     92.00   \n",
       "1              7725               3750     750      80.9     225     85.25   \n",
       "2              9600              21225     600      76.0     300     78.90   \n",
       "3              3525               2625      75      66.0     225     71.05   \n",
       "4              8175              12225     375      62.0     225     64.00   \n",
       "\n",
       "   underlyingValue  \n",
       "0         22535.85  \n",
       "1         22535.85  \n",
       "2         22535.85  \n",
       "3         22535.85  \n",
       "4         22535.85  "
      ]
     },
     "execution_count": 37,
     "metadata": {},
     "output_type": "execute_result"
    }
   ],
   "source": [
    "# query strikes between 23500 and 24500\n",
    "df = df.query('strikePrice>=23500 and strikePrice<=24500').reset_index(drop=True)\n",
    "df.head()"
   ]
  },
  {
   "cell_type": "markdown",
   "id": "eeaa4ce0-f8db-4394-aa6f-aec9bd447b5d",
   "metadata": {},
   "source": [
    "Create a user defined function to calculate the IV Skew"
   ]
  },
  {
   "cell_type": "code",
   "execution_count": 38,
   "id": "134c3412-3698-4b29-a3af-e48e27241c57",
   "metadata": {},
   "outputs": [],
   "source": [
    "def ivskew(spot, rate, valuation, expiration, frame):\n",
    "    \n",
    "    dte = (pd.to_datetime(expiration+' 15:30:00') - pd.to_datetime(valuation)) / timedelta(days=365)\n",
    "\n",
    "    # Instantiate BS Pricing Engine from quantmod and Derive Implied Volatiliy\n",
    "    for i in range(len(frame)):\n",
    "        nifty = BlackScholesOptionPricing(\n",
    "            OptionInputs(\n",
    "                spot = spot,\n",
    "                strike = frame['strikePrice'].iloc[i], \n",
    "                rate = rate,\n",
    "                ttm = dte,\n",
    "                volatility = 0.20,\n",
    "                callprice = frame['lastPrice'].iloc[i]\n",
    "                )\n",
    "            )\n",
    "            \n",
    "        frame.loc[i, 'IV'] = nifty.impvol\n",
    "    frame.set_index('strikePrice', inplace=True)\n",
    "        \n",
    "    return frame['IV']"
   ]
  },
  {
   "cell_type": "code",
   "execution_count": 39,
   "id": "48416da6-c315-4028-9b65-f08c92aa2750",
   "metadata": {},
   "outputs": [
    {
     "data": {
      "text/plain": [
       "strikePrice\n",
       "23500    0.117547\n",
       "23550    0.118968\n",
       "Name: IV, dtype: float64"
      ]
     },
     "execution_count": 39,
     "metadata": {},
     "output_type": "execute_result"
    }
   ],
   "source": [
    "ivskew(22850, 0,'25-Mar-2025', '24-Apr-2025', df).head(2)"
   ]
  },
  {
   "cell_type": "code",
   "execution_count": 40,
   "id": "5aae1fdc-acca-4282-82cc-5e913d614bcc",
   "metadata": {},
   "outputs": [],
   "source": [
    "# Set expiry list\n",
    "expiry_list = ['09-Apr-2025' , '24-Apr-2025']\n",
    "\n",
    "# Initialise empty dataframe\n",
    "call_price = pd.DataFrame()\n",
    "call_vols = pd.DataFrame()"
   ]
  },
  {
   "cell_type": "code",
   "execution_count": 44,
   "id": "f934d0bd-ff9f-4b5e-9cc2-9590122ff8c4",
   "metadata": {},
   "outputs": [
    {
     "data": {
      "text/plain": [
       "['09-Apr-2025', '24-Apr-2025']"
      ]
     },
     "execution_count": 44,
     "metadata": {},
     "output_type": "execute_result"
    }
   ],
   "source": [
    "expiry_list"
   ]
  },
  {
   "cell_type": "code",
   "execution_count": 58,
   "id": "76355bef-1f15-46b0-a57f-63d90b0b33e1",
   "metadata": {},
   "outputs": [],
   "source": [
    "for expiry in expiry_list:\n",
    "    \n",
    "    opt = OptionData(\"NIFTY\", expiry)\n",
    "    df = (opt.get_call_option_data\n",
    "          .query('strikePrice>=23500 and strikePrice<=24500').reset_index(drop=True)\n",
    "    )\n",
    "            \n",
    "    call_price[expiry] = df['lastPrice']\n",
    "    call_vols[expiry] = ivskew(22850, 0, '25-Mar-2025', expiry, df)"
   ]
  },
  {
   "cell_type": "code",
   "execution_count": 59,
   "id": "5a82ac19-d1f9-425f-9e79-98de141908fd",
   "metadata": {},
   "outputs": [
    {
     "data": {
      "text/html": [
       "<div>\n",
       "<style scoped>\n",
       "    .dataframe tbody tr th:only-of-type {\n",
       "        vertical-align: middle;\n",
       "    }\n",
       "\n",
       "    .dataframe tbody tr th {\n",
       "        vertical-align: top;\n",
       "    }\n",
       "\n",
       "    .dataframe thead th {\n",
       "        text-align: right;\n",
       "    }\n",
       "</style>\n",
       "<table border=\"1\" class=\"dataframe\">\n",
       "  <thead>\n",
       "    <tr style=\"text-align: right;\">\n",
       "      <th></th>\n",
       "      <th>09-Apr-2025</th>\n",
       "      <th>24-Apr-2025</th>\n",
       "    </tr>\n",
       "    <tr>\n",
       "      <th>strikePrice</th>\n",
       "      <th></th>\n",
       "      <th></th>\n",
       "    </tr>\n",
       "  </thead>\n",
       "  <tbody>\n",
       "    <tr>\n",
       "      <th>23500</th>\n",
       "      <td>0.073752</td>\n",
       "      <td>0.117547</td>\n",
       "    </tr>\n",
       "    <tr>\n",
       "      <th>23550</th>\n",
       "      <td>0.076476</td>\n",
       "      <td>0.118968</td>\n",
       "    </tr>\n",
       "    <tr>\n",
       "      <th>23600</th>\n",
       "      <td>0.077863</td>\n",
       "      <td>0.120633</td>\n",
       "    </tr>\n",
       "    <tr>\n",
       "      <th>23650</th>\n",
       "      <td>0.080230</td>\n",
       "      <td>0.120803</td>\n",
       "    </tr>\n",
       "    <tr>\n",
       "      <th>23700</th>\n",
       "      <td>0.082696</td>\n",
       "      <td>0.121326</td>\n",
       "    </tr>\n",
       "    <tr>\n",
       "      <th>23750</th>\n",
       "      <td>0.085951</td>\n",
       "      <td>0.121213</td>\n",
       "    </tr>\n",
       "    <tr>\n",
       "      <th>23800</th>\n",
       "      <td>0.088776</td>\n",
       "      <td>0.126775</td>\n",
       "    </tr>\n",
       "    <tr>\n",
       "      <th>23850</th>\n",
       "      <td>0.090009</td>\n",
       "      <td>0.124700</td>\n",
       "    </tr>\n",
       "    <tr>\n",
       "      <th>23900</th>\n",
       "      <td>0.093819</td>\n",
       "      <td>0.126009</td>\n",
       "    </tr>\n",
       "    <tr>\n",
       "      <th>23950</th>\n",
       "      <td>0.097985</td>\n",
       "      <td>0.125575</td>\n",
       "    </tr>\n",
       "    <tr>\n",
       "      <th>24000</th>\n",
       "      <td>0.100955</td>\n",
       "      <td>0.126592</td>\n",
       "    </tr>\n",
       "    <tr>\n",
       "      <th>24050</th>\n",
       "      <td>0.106669</td>\n",
       "      <td>0.126641</td>\n",
       "    </tr>\n",
       "    <tr>\n",
       "      <th>24100</th>\n",
       "      <td>0.107033</td>\n",
       "      <td>0.128347</td>\n",
       "    </tr>\n",
       "    <tr>\n",
       "      <th>24150</th>\n",
       "      <td>0.110191</td>\n",
       "      <td>0.129432</td>\n",
       "    </tr>\n",
       "    <tr>\n",
       "      <th>24200</th>\n",
       "      <td>0.113289</td>\n",
       "      <td>0.130494</td>\n",
       "    </tr>\n",
       "    <tr>\n",
       "      <th>24250</th>\n",
       "      <td>0.116328</td>\n",
       "      <td>0.131366</td>\n",
       "    </tr>\n",
       "    <tr>\n",
       "      <th>24300</th>\n",
       "      <td>0.118126</td>\n",
       "      <td>0.133744</td>\n",
       "    </tr>\n",
       "    <tr>\n",
       "      <th>24350</th>\n",
       "      <td>0.121606</td>\n",
       "      <td>0.133617</td>\n",
       "    </tr>\n",
       "    <tr>\n",
       "      <th>24400</th>\n",
       "      <td>0.122334</td>\n",
       "      <td>0.135039</td>\n",
       "    </tr>\n",
       "    <tr>\n",
       "      <th>24450</th>\n",
       "      <td>0.129153</td>\n",
       "      <td>0.136045</td>\n",
       "    </tr>\n",
       "    <tr>\n",
       "      <th>24500</th>\n",
       "      <td>0.132594</td>\n",
       "      <td>0.136046</td>\n",
       "    </tr>\n",
       "  </tbody>\n",
       "</table>\n",
       "</div>"
      ],
      "text/plain": [
       "             09-Apr-2025  24-Apr-2025\n",
       "strikePrice                          \n",
       "23500           0.073752     0.117547\n",
       "23550           0.076476     0.118968\n",
       "23600           0.077863     0.120633\n",
       "23650           0.080230     0.120803\n",
       "23700           0.082696     0.121326\n",
       "23750           0.085951     0.121213\n",
       "23800           0.088776     0.126775\n",
       "23850           0.090009     0.124700\n",
       "23900           0.093819     0.126009\n",
       "23950           0.097985     0.125575\n",
       "24000           0.100955     0.126592\n",
       "24050           0.106669     0.126641\n",
       "24100           0.107033     0.128347\n",
       "24150           0.110191     0.129432\n",
       "24200           0.113289     0.130494\n",
       "24250           0.116328     0.131366\n",
       "24300           0.118126     0.133744\n",
       "24350           0.121606     0.133617\n",
       "24400           0.122334     0.135039\n",
       "24450           0.129153     0.136045\n",
       "24500           0.132594     0.136046"
      ]
     },
     "execution_count": 59,
     "metadata": {},
     "output_type": "execute_result"
    }
   ],
   "source": [
    "# Verify Call IV\n",
    "call_vols"
   ]
  },
  {
   "cell_type": "code",
   "execution_count": 60,
   "id": "8fdeb9c3-e072-460f-89f2-ad5e15118f2f",
   "metadata": {},
   "outputs": [
    {
     "data": {
      "image/png": "[encoded data removed]",
      "text/plain": [
       "<Figure size 640x480 with 1 Axes>"
      ]
     },
     "metadata": {},
     "output_type": "display_data"
    }
   ],
   "source": [
    "# plot IV Skew & Term Structure\n",
    "plt.plot(call_vols.index, call_vols)\n",
    "plt.title('IV Skew & Term Structure')\n",
    "plt.xlabel('Strike Price')\n",
    "plt.ylabel('Implied Volatility')\n",
    "plt.legend(call_vols.columns)\n",
    "plt.show()"
   ]
  },
  {
   "cell_type": "code",
   "execution_count": null,
   "id": "42f522b7-09cf-4ca6-8aa7-bb0605b834cf",
   "metadata": {},
   "outputs": [],
   "source": []
  }
 ],
 "metadata": {
  "kernelspec": {
   "display_name": "Python 3 (ipykernel)",
   "language": "python",
   "name": "python3"
  },
  "language_info": {
   "codemirror_mode": {
    "name": "ipython",
    "version": 3
   },
   "file_extension": ".py",
   "mimetype": "text/x-python",
   "name": "python",
   "nbconvert_exporter": "python",
   "pygments_lexer": "ipython3",
   "version": "3.10.16"
  }
 },
 "nbformat": 4,
 "nbformat_minor": 5
}

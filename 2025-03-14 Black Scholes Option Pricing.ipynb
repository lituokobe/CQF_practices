{
 "cells": [
  {
   "cell_type": "markdown",
   "metadata": {},
   "source": [
    "<center><img src=\"https://upload.wikimedia.org/wikipedia/commons/c/c3/Python-logo-notext.svg\" width=\"08%\" style=\"vertical-align: top; padding-top: 2px\"></center>\n",
    "\n",
    "<h1><font color='#306998'><center>Black Scholes Option Pricing</center></font></h1>\n",
    "<center>Kannan Singaravelu, CQF</center>\n",
    "\n",
    "---"
   ]
  },
  {
   "cell_type": "markdown",
   "metadata": {},
   "source": [
    "## Black Scholes Model\n",
    "\n",
    "The *Black Scholes* model was published in 1973 for non-dividend paying stocks and since then the model has created a revolution in quantitative finance and opened up derivatives pricing paradigm. Black Scholes model is based on number of assumptions about how financial markets operate and those are:\n",
    "\n",
    "* Arbitrage Free Markets\n",
    "* Frictionless and Continuous Markets\n",
    "* Risk Free Rates\n",
    "* Log-normally Distributed Price Movements\n",
    "* Constant Volatility\n",
    "\n",
    "These assumptions maynot hold true in reality, but are not particularly limiting. The generalized Black Scholes framework have been extended to price derivaties of other asset classes such as Black 76 (Commodity Futures) and Garman-Kohlhagen (FX Futures) that are currently used in derivative pricing and risk management."
   ]
  },
  {
   "cell_type": "markdown",
   "metadata": {},
   "source": [
    "### Black Scholes Formula\n",
    "The Black–Scholes equation describes the price of the option over time as\n",
    "\n",
    "$$\n",
    "\\frac{\\partial V}{\\partial t}\n",
    "+ \\frac 1{2}{\\sigma^2 S^2} \\frac{\\partial^2 V}{\\partial S^2}\n",
    "+ r S \\frac{\\partial V}{\\partial S} - rV = 0 \n",
    "$$\n",
    "\n",
    "<br>Solving the above equation, we know that the value of a call option for a non-dividend paying stock is:<br>\n",
    "\n",
    "$$ C = SN(d_1) - Ke^{-rt}N(d_2) $$\n",
    "\n",
    "and, the corresponding put option price is:\n",
    "\n",
    "$$ P = Ke^{-rt}N(-d_2) - SN(-d_1)$$\n",
    "\n",
    "where, \n",
    "\n",
    "$$ d_1= \\frac{1}{\\sigma \\sqrt{t}}\\left[\\ln{\\left(\\frac{S}{K}\\right)} +{\\left(r + \\frac{\\sigma^2}{2}\\right)}t\\right] $$\n",
    "<br>\n",
    "\n",
    "$$ d_2= d_1 - \\sigma \\sqrt{t} $$\n",
    "<br>\n",
    "\n",
    "$$ N(x)=\\frac{1}{\\sqrt{2\\pi}} \\int_{-\\infty}^{x} \\mathrm e^{-\\frac{1}{2}x^2} dx $$\n",
    "\n",
    "\n",
    "$S$ is the spot price of the underlying asset<br>\n",
    "$K$ is the strike price<br>\n",
    "$r$ is the annualized continuous compounded risk free rate<br>\n",
    "$\\sigma$ is the volatility of returns of the underlying asset<br>\n",
    "$t$ is time to maturity (expressed in years)<br>\n",
    "$N(x)$ is the standard normal cumulative distribution"
   ]
  },
  {
   "cell_type": "markdown",
   "metadata": {},
   "source": [
    "### Greeks\n",
    "\n",
    "| **Description** |  | **Greeks for Call Option** | **Greeks for Put Option**             \n",
    "|:-----------|:----------------|:----------------|:--------                                                                                                       \n",
    "| **Delta**  |$ \\space\\space \\frac {\\partial V}{\\partial S}$ Sensitivity of Value to changes in price | $N(d_1)$ | $-N(-d_1)$\n",
    "| **Gamma**  |$ \\space\\space \\frac {\\partial ^{2}V}{\\partial S^{2}}$ Sensitivity of Delta to changes in price | $\\frac{N'(d_1)}{S\\sigma\\sqrt{t}}$\n",
    "| **Vega**   |$ \\space\\space \\frac {\\partial V}{\\partial \\sigma}$ Sensitivity of Value to changes in volatility | $SN'(d_1)\\sqrt{t}$\n",
    "| **Theta**  |$ \\space\\space \\frac {\\partial V}{\\partial t}$ Sensitivity of Value to changes in time | $-\\frac{SN'(d_1)\\sigma}{2\\sqrt{t}}-rKe^{-rt}N(d_2)$ | $-\\frac{SN'(d_1)\\sigma}{2\\sqrt{t}}+rKe^{-rt}N(-d_2)$\n",
    "| **Rho**    |$ \\space\\space \\frac {\\partial V}{\\partial r}$  Sensitivity of Value to changes in risk-free | $Kte^{-rt}N(d_2)$ | $-Kte^{-rt}N(-d_2)$\n",
    "\n",
    "### Example\n",
    "We will now price a European call option of an asset maturing in the next 144 days with the following specifications:\n",
    "\n",
    "* $S$ = 330\n",
    "* $K$ = 335\n",
    "* $r$ = 2\\%\n",
    "* $\\sigma$ = 20\\%\n",
    "* $t$ = 0.3945\n",
    "\n",
    "*What price should you pay (per unit) for the option contract?*\n",
    "\n",
    "$\\mathrm d_1= \\frac{1}{0.20 \\sqrt{0.3945}} \\left[\\ln{\\left(\\frac{330}{335}\\right)} + 0.3945\\left(0.02 + \\frac{0.20^2}{2} \\right) \\right]=0.00590775$\n",
    "\n",
    "\n",
    "$\\mathrm d_2= d_1 - {0.20 \\sqrt{0.3945}}=-0.11971071$\n",
    "\n",
    "Now that we've calculated $d_1$ and $d_2$, we then evaluate\n",
    "$N(d_1)=N(0.00590775)=0.50235683$\n",
    "\n",
    "$N(d_2)=N(-0.11971071)=0.45235615$\n",
    "\n",
    "Next, we plug these values in the above equation to calculate the price of the call option.\n",
    "\n",
    "$C(330,0.3945)= (0.50234683)(330) - (0.45235615)(335) \\space \\mathrm e^{-(0.02)(0.3945)} \\approx 15.4294$\n",
    "\n",
    "Thus, we will be paying around \\$1542.94 for the options contract with a lot size or multiplier of 100 units."
   ]
  },
  {
   "cell_type": "markdown",
   "metadata": {},
   "source": [
    "### Import Required Libraries"
   ]
  },
  {
   "cell_type": "code",
   "execution_count": null,
   "metadata": {},
   "outputs": [],
   "source": [
    "# Base libraries\n",
    "import numpy as np\n",
    "import pandas as pd\n",
    "from typing import Tuple\n",
    "from scipy.stats import norm\n",
    "\n",
    "# Plotting\n",
    "import matplotlib.pyplot as plt\n",
    "from tabulate import tabulate\n",
    "\n",
    "# import warnings\n",
    "# warnings.filterwarnings('ignore')"
   ]
  },
  {
   "cell_type": "markdown",
   "metadata": {},
   "source": [
    "### Options Object\n",
    "Python is an object oriented programming language.  Almost everything in Python is an object, with its properties and methods. There are two common programming paradigm in Python.\n",
    "\n",
    ">1. Procedural Programming\n",
    ">2. Object-oriented Programming (OOP)\n",
    "\n",
    "The key difference between them is that in OOP, objects are at the center, not only representing the data, as in the procedural programming, but in the overall structure of the program as well.\n",
    "\n",
    "### Class\n",
    "We use Classes to create user-defined data structures. Classes define functions called methods, which identify the characteristics and actions that an object created from the class can perform with its data. A Class is like an object constructor, or a \"blueprint\" for creating objects. To create a class, use the keyword **class**\n",
    "\n",
    "#### \\_\\_init\\_\\_\n",
    "\n",
    "The properties of the class objects are defined in a method called $\\_\\_init\\_\\_$\n",
    "\n",
    ">1. \\_\\_init\\_\\_() sets the initial state of the object by assigning the values of the object’s properties. \n",
    ">2. \\_\\_init\\_\\_() initializes each new instance of the class\n",
    ">3. Attributes created in \\_\\_init\\_\\_() are called instance attributes, while class attributes are attributes that have the same value for all class instances.\n",
    "\n",
    "#### self\n",
    "\n",
    "The *self* is a parameter used to represent the instance of the class. With self, you can access the attributes and methods of the class in python. It binds the attributes with the given arguments. When a new class instance is created, the instance is automatically passed to the self parameter in \\_\\_init\\_\\_() so that new attributes can be defined on the object.\n",
    "\n",
    ">1. \\_\\_init\\_\\_() can have any number of parameters, but the first parameter will always be a variable called self."
   ]
  },
  {
   "cell_type": "markdown",
   "metadata": {},
   "source": [
    "We will now construct a Black Scholes Options class"
   ]
  },
  {
   "cell_type": "code",
   "execution_count": null,
   "metadata": {
    "scrolled": true
   },
   "outputs": [],
   "source": [
    "class BS:\n",
    "    def __init__(self, spot, strike, rate, dte, volatility):\n",
    "        self.S = spot\n",
    "        self.K = strike\n",
    "        self.r = rate\n",
    "        self.t = dte\n",
    "        self.sigma = volatility\n",
    "        \n",
    "        # Calculate common terms used across methods\n",
    "        self.time_sqrt = np.sqrt(self.t)\n",
    "        self.discount_factor = np.exp(-self.r * self.t)\n",
    "       \n",
    "        # Calculate d1 and d2 parameters\n",
    "        self.d1 = self._calculate_d1()\n",
    "        self.d2 = self.d1 - self.sigma * self.time_sqrt\n",
    "        \n",
    "        # Calculate all option Greeks and prices\n",
    "        self.call_price, self.put_price = self._price()\n",
    "        self.call_delta, self.put_delta = self._delta()\n",
    "        self.gamma = self._gamma()\n",
    "        self.vega = self._vega()\n",
    "        self.call_theta, self.put_theta = self._theta()\n",
    "        self.call_rho, self.put_rho = self._rho()\n",
    "       \n",
    "    def _calculate_d1(self) -> float:\n",
    "        return (np.log(self.S / self.K) + (self.r + (self.sigma**2) / 2) * self.t) / (\n",
    "            self.sigma * self.time_sqrt\n",
    "        )\n",
    "    \n",
    "    def _price(self) -> Tuple[float, float]:\n",
    "        d1_cdf = norm.cdf(self.d1)\n",
    "        d2_cdf = norm.cdf(self.d2)\n",
    "\n",
    "        call = self.S * d1_cdf - self.K * self.discount_factor * d2_cdf\n",
    "        put = self.K * self.discount_factor * norm.cdf(-self.d2) - self.S * norm.cdf(\n",
    "            -self.d1\n",
    "        )\n",
    "        return call, put\n",
    "    \n",
    "    def _delta(self) -> Tuple[float, float]:\n",
    "        d1_cdf = norm.cdf(self.d1)\n",
    "        return d1_cdf, -norm.cdf(-self.d1)\n",
    "    \n",
    "    def _gamma(self) -> float:\n",
    "        return norm.pdf(self.d1) / (self.S * self.sigma * self.time_sqrt)\n",
    "    \n",
    "    def _vega(self) -> float:\n",
    "        return self.S * norm.pdf(self.d1) * self.time_sqrt / 100\n",
    "    \n",
    "    def _theta(self) -> Tuple[float, float]:\n",
    "        spot_term = -self.S * norm.pdf(self.d1) * self.sigma / (2 * self.time_sqrt)\n",
    "        call_rate_term = -self.r * self.K * self.discount_factor * norm.cdf(self.d2)\n",
    "        put_rate_term = self.r * self.K * self.discount_factor * norm.cdf(-self.d2)\n",
    "\n",
    "        return (spot_term + call_rate_term) / 365, (spot_term + put_rate_term) / 365\n",
    "    \n",
    "    def _rho(self) -> Tuple[float, float]:\n",
    "        call = self.K * self.t * self.discount_factor * norm.cdf(self.d2) / 100\n",
    "        put = -self.K * self.t * self.discount_factor * norm.cdf(-self.d2) / 100\n",
    "        return call, put"
   ]
  },
  {
   "cell_type": "code",
   "execution_count": null,
   "metadata": {},
   "outputs": [],
   "source": [
    "# Initialize option\n",
    "option = BS(100,100,0.05,1,0.2)\n",
    "\n",
    "header = ['Type', 'Option Price', 'Delta', 'Gamma', 'Theta', 'Vega', 'Rho']\n",
    "table = [\n",
    "    [\n",
    "        'Call',\n",
    "        option.call_price,\n",
    "        option.call_delta,\n",
    "        option.gamma,\n",
    "        option.call_theta,\n",
    "        option.vega,\n",
    "        option.call_rho\n",
    "    ],\n",
    "    [   \n",
    "        'Put',\n",
    "        option.put_price,\n",
    "        option.put_delta,\n",
    "        option.gamma,\n",
    "        option.put_theta,\n",
    "        option.vega,        \n",
    "        option.put_rho       \n",
    "    ],\n",
    "]\n",
    "\n",
    "print(tabulate(table,header))"
   ]
  },
  {
   "cell_type": "markdown",
   "metadata": {},
   "source": [
    "### Visualize the Payoff"
   ]
  },
  {
   "cell_type": "code",
   "execution_count": null,
   "metadata": {},
   "outputs": [],
   "source": [
    "# Plot option values for range of spot prices over differece time\n",
    "fig, axes = plt.subplots(1, 2, figsize=(20, 6), sharey=True)\n",
    "\n",
    "# Define expirations and labels\n",
    "d = {'0M': 1e-50, '3M': 0.25, '6M': 0.5, '9M': 0.75, '12M': 1.0}\n",
    "x = np.linspace(50, 150, 100)\n",
    "\n",
    "# Plot call and put prices\n",
    "for label, tau in d.items():\n",
    "    bs = BS(x, 100, 0.0, tau, 0.2)\n",
    "    axes[0].plot(x, bs.call_price, label=label)\n",
    "    axes[1].plot(x, bs.put_price, label=label)\n",
    "\n",
    "# Set titles and legends\n",
    "for ax, title in zip(axes, [\"Call Price\", \"Put Price\"]):\n",
    "    ax.set_title(title)\n",
    "    ax.legend()\n",
    "\n",
    "plt.show()\n"
   ]
  },
  {
   "cell_type": "markdown",
   "metadata": {},
   "source": [
    "### Visualize the Greeks"
   ]
  },
  {
   "cell_type": "code",
   "execution_count": null,
   "metadata": {},
   "outputs": [],
   "source": [
    "# Plot graph iteratively\n",
    "fig, ax = plt.subplots(2, 2, figsize=(20, 10))\n",
    "\n",
    "# Define Greeks and their respective subplot positions\n",
    "greeks = {\n",
    "    (0, 0): ('call_delta', 'Delta'),\n",
    "    (0, 1): ('gamma', 'Gamma'),\n",
    "    (1, 0): ('vega', 'Vega'),\n",
    "    (1, 1): ('call_theta', 'Theta')\n",
    "}\n",
    "\n",
    "# Plot all Greeks in one loop\n",
    "for (i, j), (attr, title) in greeks.items():\n",
    "    for label, tau in d.items():\n",
    "        ax[i, j].plot(x, getattr(BS(x, 100, 0.0, tau, 0.2), attr), label=label)\n",
    "    ax[i, j].set_title(title)\n",
    "    ax[i, j].legend()\n",
    "\n",
    "plt.show()\n",
    "\n"
   ]
  },
  {
   "cell_type": "markdown",
   "metadata": {},
   "source": [
    "## Nifty Option\n",
    "Let's now retrieve NIFTY option data using the `quantmod` library and manipulate the dataframe with the Black-Scholes option pricing model that we previously created. You can retrieve the NIFTY option data from the following link: https://www.nseindia.com/get-quotes/derivatives?symbol=NIFTY&identifier=OPTIDXNIFTY13-03-2025CE22500.00\n",
    "\n",
    "`Note`: You will need to update the quantmod library to version 0.0.6 to use Indian options data."
   ]
  },
  {
   "cell_type": "code",
   "execution_count": null,
   "metadata": {},
   "outputs": [],
   "source": [
    "# update quantmod to version 0.0.6 for NSE options\n",
    "from quantmod.derivatives import OptionData\n",
    "from datetime import datetime, timedelta\n",
    "from quantmod.models import OptionInputs, BlackScholesOptionPricing"
   ]
  },
  {
   "cell_type": "code",
   "execution_count": null,
   "metadata": {},
   "outputs": [],
   "source": [
    "# Get option chain for specify expiry\n",
    "expiration = '27-Mar-2025'\n",
    "valuation = datetime.today()\n",
    "ttm = (pd.to_datetime(expiration+' 15:30:00') - pd.to_datetime(valuation)) / timedelta(days=365)\n",
    "\n",
    "# Instantiate the Option Data\n",
    "opt = OptionData(\"NIFTY\", expiration)\n",
    "df = opt.get_call_option_data\n",
    "df.head(2)"
   ]
  },
  {
   "cell_type": "markdown",
   "metadata": {},
   "source": [
    "### Query Option Chain"
   ]
  },
  {
   "cell_type": "code",
   "execution_count": null,
   "metadata": {},
   "outputs": [],
   "source": [
    "# querry strikes between 22000 and 22500\n",
    "df = df.query('strikePrice>=22000 and strikePrice<=23000').reset_index(drop=True)\n",
    "df.head()"
   ]
  },
  {
   "cell_type": "markdown",
   "metadata": {},
   "source": [
    "### Option Analysis"
   ]
  },
  {
   "cell_type": "code",
   "execution_count": null,
   "metadata": {},
   "outputs": [],
   "source": [
    "# Dataframe manipulation with selected fields\n",
    "df1 = pd.DataFrame({'Strike': df['strikePrice'],\n",
    "                    'Price': df['lastPrice'],\n",
    "                    })\n",
    "\n",
    "# Instantiate BS Pricing Engine from quantmod and Derive Implied Volatiliy\n",
    "for i in range(len(df1)):\n",
    "    nifty = BlackScholesOptionPricing(\n",
    "        OptionInputs(\n",
    "            spot = 22400,\n",
    "            strike = df1['Strike'].iloc[i], \n",
    "            rate = 0.0,\n",
    "            ttm = ttm,\n",
    "            volatility = 0.20,\n",
    "            callprice = df1['Price'].iloc[i]\n",
    "            )\n",
    "        )\n",
    "        \n",
    "    df1.loc[i, 'ImpVol'] = nifty.impvol\n",
    "    \n",
    "# Check output\n",
    "df1.head(10)"
   ]
  },
  {
   "cell_type": "code",
   "execution_count": null,
   "metadata": {},
   "outputs": [],
   "source": [
    "# Derive greeks and assign to dataframe as columns\n",
    "for i in range(len(df1)):\n",
    "    # initializing the BS option object\n",
    "    nifty = BS(\n",
    "        spot = 22400, \n",
    "        strike = df1['Strike'].iloc[i], \n",
    "        rate = 0.0,\n",
    "        dte = ttm, \n",
    "        volatility=df1['ImpVol'].iloc[i]\n",
    "        )\n",
    "    # assign greeks to dataframe \n",
    "    df1.loc[i, 'Delta'] = nifty.call_delta\n",
    "    df1.loc[i, 'Gamma'] = nifty.gamma\n",
    "    df1.loc[i, 'Vega'] = nifty.vega\n",
    "    df1.loc[i, 'Theta'] = nifty.call_theta\n",
    "    \n",
    "# Verify output\n",
    "df1.head(10)"
   ]
  },
  {
   "cell_type": "markdown",
   "metadata": {},
   "source": [
    "### Visualize"
   ]
  },
  {
   "cell_type": "code",
   "execution_count": null,
   "metadata": {},
   "outputs": [],
   "source": [
    "# Plot graph iteratively\n",
    "fig, axes = plt.subplots(2, 2, figsize=(20, 10))\n",
    "\n",
    "# Greek parameters\n",
    "greeks = {\n",
    "    (0,0): ('Delta', 'r'),\n",
    "    (0,1): ('Gamma', 'b'),\n",
    "    (1,0): ('Vega', 'k'),\n",
    "    (1,1): ('Theta', 'g')\n",
    "}\n",
    "\n",
    "# Plot all greeks in one loop\n",
    "for (i,j), (greek, color) in greeks.items():\n",
    "    axes[i,j].plot(df1['Strike'], df1[greek], color=color, label=expiration)\n",
    "    axes[i,j].set_title(greek)\n",
    "    axes[i,j].legend()\n",
    "\n",
    "plt.show()"
   ]
  },
  {
   "cell_type": "markdown",
   "metadata": {},
   "source": [
    "## References\n",
    "\n",
    "* [Matplotlib](https://matplotlib.org)\n",
    "* [Python Class Reference](https://docs.python.org/3/tutorial/classes.html)\n",
    "* [Python Resources](https://github.com/kannansingaravelu/PythonResources)\n",
    "* [Quantmod Documentation](https://kannansingaravelu.com/quantmod)"
   ]
  },
  {
   "cell_type": "markdown",
   "metadata": {},
   "source": [
    "---\n",
    "Python Labs by [Kannan Singaravelu](https://www.linkedin.com/in/kannansi)"
   ]
  }
 ],
 "metadata": {
  "kernelspec": {
   "display_name": "Python 3 (ipykernel)",
   "language": "python",
   "name": "python3"
  },
  "language_info": {
   "codemirror_mode": {
    "name": "ipython",
    "version": 3
   },
   "file_extension": ".py",
   "mimetype": "text/x-python",
   "name": "python",
   "nbconvert_exporter": "python",
   "pygments_lexer": "ipython3",
   "version": "3.10.16"
  },
  "latex_envs": {
   "LaTeX_envs_menu_present": true,
   "autoclose": false,
   "autocomplete": true,
   "bibliofile": "biblio.bib",
   "cite_by": "apalike",
   "current_citInitial": 1,
   "eqLabelWithNumbers": true,
   "eqNumInitial": 1,
   "hotkeys": {
    "equation": "Ctrl-E",
    "itemize": "Ctrl-I"
   },
   "labels_anchors": false,
   "latex_user_defs": false,
   "report_style_numbering": false,
   "user_envs_cfg": false
  },
  "nbTranslate": {
   "displayLangs": [
    "*"
   ],
   "hotkey": "alt-t",
   "langInMainMenu": true,
   "sourceLang": "en",
   "targetLang": "fr",
   "useGoogleTranslate": true
  },
  "toc": {
   "base_numbering": 1,
   "nav_menu": {},
   "number_sections": true,
   "sideBar": true,
   "skip_h1_title": true,
   "title_cell": "Table of Contents",
   "title_sidebar": "Contents",
   "toc_cell": false,
   "toc_position": {
    "height": "calc(100% - 180px)",
    "left": "10px",
    "top": "150px",
    "width": "341.328125px"
   },
   "toc_section_display": true,
   "toc_window_display": false
  },
  "varInspector": {
   "cols": {
    "lenName": 16,
    "lenType": 16,
    "lenVar": 40
   },
   "kernels_config": {
    "python": {
     "delete_cmd_postfix": "",
     "delete_cmd_prefix": "del ",
     "library": "var_list.py",
     "varRefreshCmd": "print(var_dic_list())"
    },
    "r": {
     "delete_cmd_postfix": ") ",
     "delete_cmd_prefix": "rm(",
     "library": "var_list.r",
     "varRefreshCmd": "cat(var_dic_list()) "
    }
   },
   "types_to_exclude": [
    "module",
    "function",
    "builtin_function_or_method",
    "instance",
    "_Feature"
   ],
   "window_display": false
  }
 },
 "nbformat": 4,
 "nbformat_minor": 4
}

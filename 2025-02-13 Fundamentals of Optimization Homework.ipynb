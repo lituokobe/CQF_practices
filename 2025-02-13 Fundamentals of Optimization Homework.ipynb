{
 "cells": [
  {
   "cell_type": "code",
   "execution_count": 1,
   "id": "1ebae540-8d3d-4759-9f5f-8dc07593be21",
   "metadata": {},
   "outputs": [],
   "source": [
    "import numpy as np"
   ]
  },
  {
   "cell_type": "code",
   "execution_count": 80,
   "id": "de9ffb2b-f51d-469a-8e3b-9c7a24124c8d",
   "metadata": {},
   "outputs": [],
   "source": [
    "import scipy.stats as stats"
   ]
  },
  {
   "cell_type": "markdown",
   "id": "1b509b71-b952-441a-92ad-5602deb0d03d",
   "metadata": {},
   "source": [
    "## Question 1 ##"
   ]
  },
  {
   "cell_type": "markdown",
   "id": "41a66fd1-10f3-40b2-8f3d-652dcb1a2596",
   "metadata": {},
   "source": [
    "We will resolve the question from a general approach first. <br>\n",
    "Define the vector of returns mu and the standard deviation matrix S."
   ]
  },
  {
   "cell_type": "code",
   "execution_count": 3,
   "id": "78ab14e9-4deb-48a1-b9af-76962c3752fc",
   "metadata": {},
   "outputs": [],
   "source": [
    "mu = np.array([[0.08], [0.1], [0.1],[0.14]])\n",
    "S = np.array([[0.12, 0, 0, 0], [0, 0.12, 0, 0], [0, 0, 0.15, 0], [0, 0, 0, 0.2]])"
   ]
  },
  {
   "cell_type": "code",
   "execution_count": 4,
   "id": "f57395d5-ae18-439d-b595-03ab3047fcaa",
   "metadata": {},
   "outputs": [
    {
     "data": {
      "text/plain": [
       "array([[0.08],\n",
       "       [0.1 ],\n",
       "       [0.1 ],\n",
       "       [0.14]])"
      ]
     },
     "execution_count": 4,
     "metadata": {},
     "output_type": "execute_result"
    }
   ],
   "source": [
    "mu"
   ]
  },
  {
   "cell_type": "code",
   "execution_count": 5,
   "id": "287b298a-8d52-4811-adab-cbd394cf099d",
   "metadata": {},
   "outputs": [
    {
     "data": {
      "text/plain": [
       "array([[0.12, 0.  , 0.  , 0.  ],\n",
       "       [0.  , 0.12, 0.  , 0.  ],\n",
       "       [0.  , 0.  , 0.15, 0.  ],\n",
       "       [0.  , 0.  , 0.  , 0.2 ]])"
      ]
     },
     "execution_count": 5,
     "metadata": {},
     "output_type": "execute_result"
    }
   ],
   "source": [
    "S"
   ]
  },
  {
   "cell_type": "markdown",
   "id": "a89fa87a-7d90-4e7b-bebb-3a0acdf01312",
   "metadata": {},
   "source": [
    "The convariance matrix:<br>\n",
    "SIGMA = S$*$rho$*$S<br>\n",
    "rho is the coefficiant matrix, which has 3 versions in this question."
   ]
  },
  {
   "cell_type": "markdown",
   "id": "b7a9de3c-14f0-4860-957f-a76bf7e31caf",
   "metadata": {},
   "source": [
    "We will also have our weight vector w:<br>\n",
    "The optimization is to minimize 1/2$*$w'$*$SIGMA$*$w <br>\n",
    "At the same time, m is the target return:<br>\n",
    "mu'$*$w = m<br>\n",
    "1'$*$w = 1 "
   ]
  },
  {
   "cell_type": "code",
   "execution_count": 20,
   "id": "e14d1374-7dec-41f6-b5a3-412da470e07a",
   "metadata": {},
   "outputs": [],
   "source": [
    "one = np.array([[1], [1], [1], [1]])"
   ]
  },
  {
   "cell_type": "code",
   "execution_count": 21,
   "id": "af7d1f62-ad19-46e9-84d7-96aa3052b41c",
   "metadata": {},
   "outputs": [
    {
     "data": {
      "text/plain": [
       "array([[1],\n",
       "       [1],\n",
       "       [1],\n",
       "       [1]])"
      ]
     },
     "execution_count": 21,
     "metadata": {},
     "output_type": "execute_result"
    }
   ],
   "source": [
    "one"
   ]
  },
  {
   "cell_type": "markdown",
   "id": "57b6730d-3463-4cfe-920e-a84cfb1bc9e7",
   "metadata": {},
   "source": [
    "We are targeting a 10% return,"
   ]
  },
  {
   "cell_type": "code",
   "execution_count": 34,
   "id": "e1ad2408-57de-4f84-bea3-ba32ed1e149f",
   "metadata": {},
   "outputs": [],
   "source": [
    "m = 0.1"
   ]
  },
  {
   "cell_type": "markdown",
   "id": "fb7319fc-c42b-424f-9aa6-0076007e41e9",
   "metadata": {},
   "source": [
    "### Subquestion a ###"
   ]
  },
  {
   "cell_type": "code",
   "execution_count": 62,
   "id": "77292ec8-0fcc-43e3-853f-c63bc1624aae",
   "metadata": {},
   "outputs": [],
   "source": [
    "#we have the covariant matrix:\n",
    "rho = np.array([[1, 0.2, 0.5, 0.3], [0.2, 1, 0.7, 0.4], [0.5, 0.7, 1, 0.9], [0.3, 0.4, 0.9, 1]])"
   ]
  },
  {
   "cell_type": "code",
   "execution_count": 63,
   "id": "d0d9f3fc-7f11-45e5-8834-62ce8c8656af",
   "metadata": {},
   "outputs": [
    {
     "data": {
      "text/plain": [
       "array([[1. , 0.2, 0.5, 0.3],\n",
       "       [0.2, 1. , 0.7, 0.4],\n",
       "       [0.5, 0.7, 1. , 0.9],\n",
       "       [0.3, 0.4, 0.9, 1. ]])"
      ]
     },
     "execution_count": 63,
     "metadata": {},
     "output_type": "execute_result"
    }
   ],
   "source": [
    "rho"
   ]
  },
  {
   "cell_type": "code",
   "execution_count": 64,
   "id": "46afffda-c007-47a5-b2c1-2fe292400da1",
   "metadata": {},
   "outputs": [],
   "source": [
    "#define A, B, C:\n",
    "A = one.T@np.linalg.inv(S@rho@S)@one\n",
    "A = A[0,0].item() #.item() is to convert numpy float to regular float\n",
    "B = mu.T@np.linalg.inv(S@rho@S)@one\n",
    "B = B[0,0].item()\n",
    "C = mu.T@np.linalg.inv(S@rho@S)@mu\n",
    "C = C[0,0].item()"
   ]
  },
  {
   "cell_type": "code",
   "execution_count": 65,
   "id": "4c9f7f10-b67e-4166-a22e-605cfe2ee379",
   "metadata": {},
   "outputs": [
    {
     "data": {
      "text/plain": [
       "456.5217391304377"
      ]
     },
     "execution_count": 65,
     "metadata": {},
     "output_type": "execute_result"
    }
   ],
   "source": [
    "A"
   ]
  },
  {
   "cell_type": "code",
   "execution_count": 66,
   "id": "cf1cd5cb-c525-401a-9f57-7f356a86da3c",
   "metadata": {},
   "outputs": [
    {
     "data": {
      "text/plain": [
       "63.816425120773374"
      ]
     },
     "execution_count": 66,
     "metadata": {},
     "output_type": "execute_result"
    }
   ],
   "source": [
    "B"
   ]
  },
  {
   "cell_type": "code",
   "execution_count": 67,
   "id": "f20dd440-ff6e-4cba-adc3-ef0388c39af3",
   "metadata": {},
   "outputs": [
    {
     "data": {
      "text/plain": [
       "9.389694041868033"
      ]
     },
     "execution_count": 67,
     "metadata": {},
     "output_type": "execute_result"
    }
   ],
   "source": [
    "C"
   ]
  },
  {
   "cell_type": "code",
   "execution_count": 68,
   "id": "a2c46837-6eb0-4ae2-858d-b57d5d4537a4",
   "metadata": {},
   "outputs": [],
   "source": [
    "# define lbd and gamma\n",
    "lbd = (A*m - B)/(A*C-B**2)\n",
    "gamma = (C-B*m)/(A*C-B**2)"
   ]
  },
  {
   "cell_type": "code",
   "execution_count": 69,
   "id": "150a8090-4fc0-4add-82a2-b4dcebd3e37d",
   "metadata": {},
   "outputs": [
    {
     "data": {
      "text/plain": [
       "-0.08485456369107043"
      ]
     },
     "execution_count": 69,
     "metadata": {},
     "output_type": "execute_result"
    }
   ],
   "source": [
    "lbd"
   ]
  },
  {
   "cell_type": "code",
   "execution_count": 70,
   "id": "eee64598-32a7-4f09-94ab-b0ed48ccee10",
   "metadata": {},
   "outputs": [
    {
     "data": {
      "text/plain": [
       "0.014052156469407823"
      ]
     },
     "execution_count": 70,
     "metadata": {},
     "output_type": "execute_result"
    }
   ],
   "source": [
    "gamma"
   ]
  },
  {
   "cell_type": "markdown",
   "id": "28761187-7c35-47d8-9d77-fb9f42ef674f",
   "metadata": {},
   "source": [
    "The optimized w_opt will be:"
   ]
  },
  {
   "cell_type": "code",
   "execution_count": 71,
   "id": "1cc870f8-b1d9-435e-a3a0-9659e35100f1",
   "metadata": {},
   "outputs": [],
   "source": [
    "w_opt = np.linalg.inv(S@rho@S)@(lbd*mu + gamma*one)"
   ]
  },
  {
   "cell_type": "code",
   "execution_count": 72,
   "id": "d5456307-ea2a-41d0-9e7b-27ca1464fb0d",
   "metadata": {},
   "outputs": [
    {
     "data": {
      "text/plain": [
       "array([[ 0.76228686],\n",
       "       [ 0.84419926],\n",
       "       [-0.98762956],\n",
       "       [ 0.38114343]])"
      ]
     },
     "execution_count": 72,
     "metadata": {},
     "output_type": "execute_result"
    }
   ],
   "source": [
    "w_opt"
   ]
  },
  {
   "cell_type": "markdown",
   "id": "0ee3a2b8-ac96-440d-9ce7-3898383a031e",
   "metadata": {},
   "source": [
    "Quite aggressive! Now what would happen as we the correlation structure\n",
    "changes?"
   ]
  },
  {
   "cell_type": "markdown",
   "id": "1f427025-89a3-4fec-95ca-014f57a411c0",
   "metadata": {},
   "source": [
    "Following question 3."
   ]
  },
  {
   "cell_type": "code",
   "execution_count": 73,
   "id": "c8eabae6-99b6-4440-b7c3-87193a016e09",
   "metadata": {},
   "outputs": [],
   "source": [
    "r = 0.05"
   ]
  },
  {
   "cell_type": "code",
   "execution_count": 75,
   "id": "8d6357fe-3716-4dd0-b7a9-79b9129974c9",
   "metadata": {},
   "outputs": [],
   "source": [
    "wt = (np.linalg.inv(S@rho@S)@(mu-[[r],[r],[r],[r]]))/(B-A*r)"
   ]
  },
  {
   "cell_type": "code",
   "execution_count": 76,
   "id": "326176ec-ca3f-4837-a8d7-11011f209f87",
   "metadata": {},
   "outputs": [
    {
     "data": {
      "text/plain": [
       "array([[ 0.93891181],\n",
       "       [ 1.66470242],\n",
       "       [-3.35376154],\n",
       "       [ 1.75014732]])"
      ]
     },
     "execution_count": 76,
     "metadata": {},
     "output_type": "execute_result"
    }
   ],
   "source": [
    "wt"
   ]
  },
  {
   "cell_type": "code",
   "execution_count": 77,
   "id": "0161fb35-2868-424d-90db-8dcbb1986dde",
   "metadata": {},
   "outputs": [
    {
     "data": {
      "text/plain": [
       "array([[0.15122766]])"
      ]
     },
     "execution_count": 77,
     "metadata": {},
     "output_type": "execute_result"
    }
   ],
   "source": [
    "mu_target = mu.T@wt\n",
    "mu_target"
   ]
  },
  {
   "cell_type": "code",
   "execution_count": 79,
   "id": "1da4b9e1-d6e2-4562-ae14-b8accb8015e4",
   "metadata": {},
   "outputs": [
    {
     "data": {
      "text/plain": [
       "array([[0.04969456]])"
      ]
     },
     "execution_count": 79,
     "metadata": {},
     "output_type": "execute_result"
    }
   ],
   "source": [
    "sigma_target = np.sqrt(wt.T@(S@rho@S)@wt)\n",
    "sigma_target"
   ]
  },
  {
   "cell_type": "markdown",
   "id": "ae2f4623-8cf4-4194-a278-e69140bc951e",
   "metadata": {},
   "source": [
    "The probability of return bigger than 0.05."
   ]
  },
  {
   "cell_type": "code",
   "execution_count": 82,
   "id": "9e83a4f0-a57f-4cf6-ae66-d37a470fa993",
   "metadata": {},
   "outputs": [
    {
     "data": {
      "text/plain": [
       "array([[0.97917482]])"
      ]
     },
     "execution_count": 82,
     "metadata": {},
     "output_type": "execute_result"
    }
   ],
   "source": [
    "stats.norm.cdf((mu_target-r)/sigma_target)"
   ]
  },
  {
   "cell_type": "markdown",
   "id": "d22ca455-3183-4b60-8d9a-aca34b3d0b8c",
   "metadata": {},
   "source": [
    "### Subquestion b ###"
   ]
  },
  {
   "cell_type": "code",
   "execution_count": 49,
   "id": "356f1e06-6edc-4921-a62d-a49fb756aa8c",
   "metadata": {},
   "outputs": [],
   "source": [
    "#we have the covariant matrix:\n",
    "rho = np.array([[1, 0, 0, 0], [0, 1, 0, 0], [0, 0, 1, 0], [0, 0, 0, 1]])"
   ]
  },
  {
   "cell_type": "code",
   "execution_count": 50,
   "id": "75b7dfd7-df06-417f-b225-2df7864f8224",
   "metadata": {},
   "outputs": [
    {
     "data": {
      "text/plain": [
       "array([[1, 0, 0, 0],\n",
       "       [0, 1, 0, 0],\n",
       "       [0, 0, 1, 0],\n",
       "       [0, 0, 0, 1]])"
      ]
     },
     "execution_count": 50,
     "metadata": {},
     "output_type": "execute_result"
    }
   ],
   "source": [
    "rho"
   ]
  },
  {
   "cell_type": "code",
   "execution_count": 51,
   "id": "4368181a-c63d-4d5b-a9f4-8d8b64788188",
   "metadata": {},
   "outputs": [],
   "source": [
    "#define A, B, C:\n",
    "A = one.T@np.linalg.inv(S@rho@S)@one\n",
    "A = A[0,0].item() #.item() is to convert numpy float to regular float\n",
    "B = mu.T@np.linalg.inv(S@rho@S)@one\n",
    "B = B[0,0].item()\n",
    "C = mu.T@np.linalg.inv(S@rho@S)@mu\n",
    "C = C[0,0].item()"
   ]
  },
  {
   "cell_type": "code",
   "execution_count": 52,
   "id": "9590cc6a-3154-4410-b7c5-21cd7c47f122",
   "metadata": {},
   "outputs": [
    {
     "data": {
      "text/plain": [
       "208.33333333333331"
      ]
     },
     "execution_count": 52,
     "metadata": {},
     "output_type": "execute_result"
    }
   ],
   "source": [
    "A"
   ]
  },
  {
   "cell_type": "code",
   "execution_count": 53,
   "id": "ec14a3dd-5535-43d3-9094-b0ef9df3f1ae",
   "metadata": {},
   "outputs": [
    {
     "data": {
      "text/plain": [
       "20.444444444444443"
      ]
     },
     "execution_count": 53,
     "metadata": {},
     "output_type": "execute_result"
    }
   ],
   "source": [
    "B"
   ]
  },
  {
   "cell_type": "code",
   "execution_count": 54,
   "id": "e94fe343-2afd-4504-8b7c-93afd3786371",
   "metadata": {},
   "outputs": [
    {
     "data": {
      "text/plain": [
       "2.0733333333333333"
      ]
     },
     "execution_count": 54,
     "metadata": {},
     "output_type": "execute_result"
    }
   ],
   "source": [
    "C"
   ]
  },
  {
   "cell_type": "code",
   "execution_count": 55,
   "id": "052ef497-387d-4462-8e42-84f5c095de80",
   "metadata": {},
   "outputs": [],
   "source": [
    "# define lbd and gamma\n",
    "lbd = (A*m - B)/(A*C-B**2)\n",
    "gamma = (C-B*m)/(A*C-B**2)"
   ]
  },
  {
   "cell_type": "code",
   "execution_count": 56,
   "id": "6de8257d-fb72-462b-9bcf-cd13bdb5fc08",
   "metadata": {},
   "outputs": [
    {
     "data": {
      "text/plain": [
       "0.02783915156871406"
      ]
     },
     "execution_count": 56,
     "metadata": {},
     "output_type": "execute_result"
    }
   ],
   "source": [
    "lbd"
   ]
  },
  {
   "cell_type": "code",
   "execution_count": 57,
   "id": "07ce6c36-8bd0-4981-a7a1-5657db4726fa",
   "metadata": {},
   "outputs": [
    {
     "data": {
      "text/plain": [
       "0.0020680512593901908"
      ]
     },
     "execution_count": 57,
     "metadata": {},
     "output_type": "execute_result"
    }
   ],
   "source": [
    "gamma"
   ]
  },
  {
   "cell_type": "code",
   "execution_count": 58,
   "id": "13194d99-9a90-45e7-b112-cd1046c0e30c",
   "metadata": {},
   "outputs": [],
   "source": [
    "w_opt = np.linalg.inv(S@rho@S)@(lbd*mu + gamma*one)"
   ]
  },
  {
   "cell_type": "code",
   "execution_count": 59,
   "id": "4463d3a5-f257-430c-bd48-2d60c1a55a4d",
   "metadata": {},
   "outputs": [
    {
     "data": {
      "text/plain": [
       "array([[0.29827662],\n",
       "       [0.33694211],\n",
       "       [0.21564295],\n",
       "       [0.14913831]])"
      ]
     },
     "execution_count": 59,
     "metadata": {},
     "output_type": "execute_result"
    }
   ],
   "source": [
    "w_opt"
   ]
  },
  {
   "cell_type": "markdown",
   "id": "d2b5cc28-baef-47bf-91f0-e346af1f0f2b",
   "metadata": {},
   "source": [
    "### Subquestion C ###"
   ]
  },
  {
   "cell_type": "code",
   "execution_count": 60,
   "id": "7a95866d-f506-471e-b722-1ed707fde8ef",
   "metadata": {},
   "outputs": [],
   "source": [
    "#we have the covariant matrix:\n",
    "rho = np.array([[1, 1, 1, 1], [1, 1, 1, 1], [1, 1, 1, 1], [1, 1, 1, 1]])"
   ]
  },
  {
   "cell_type": "code",
   "execution_count": 61,
   "id": "5a0a0652-18e9-43fc-929e-d6987fe41930",
   "metadata": {},
   "outputs": [
    {
     "ename": "LinAlgError",
     "evalue": "Singular matrix",
     "output_type": "error",
     "traceback": [
      "\u001b[0;31m---------------------------------------------------------------------------\u001b[0m",
      "\u001b[0;31mLinAlgError\u001b[0m                               Traceback (most recent call last)",
      "Cell \u001b[0;32mIn[61], line 2\u001b[0m\n\u001b[1;32m      1\u001b[0m \u001b[38;5;66;03m#define A, B, C:\u001b[39;00m\n\u001b[0;32m----> 2\u001b[0m A \u001b[38;5;241m=\u001b[39m one\u001b[38;5;241m.\u001b[39mT\u001b[38;5;129m@np\u001b[39m\u001b[38;5;241;43m.\u001b[39;49m\u001b[43mlinalg\u001b[49m\u001b[38;5;241;43m.\u001b[39;49m\u001b[43minv\u001b[49m\u001b[43m(\u001b[49m\u001b[43mS\u001b[49m\u001b[38;5;129;43m@rho\u001b[39;49m\u001b[38;5;129;43m@S\u001b[39;49m\u001b[43m)\u001b[49m\u001b[38;5;129m@one\u001b[39m\n\u001b[1;32m      3\u001b[0m A \u001b[38;5;241m=\u001b[39m A[\u001b[38;5;241m0\u001b[39m,\u001b[38;5;241m0\u001b[39m]\u001b[38;5;241m.\u001b[39mitem() \u001b[38;5;66;03m#.item() is to convert numpy float to regular float\u001b[39;00m\n\u001b[1;32m      4\u001b[0m B \u001b[38;5;241m=\u001b[39m mu\u001b[38;5;241m.\u001b[39mT\u001b[38;5;129m@np\u001b[39m\u001b[38;5;241m.\u001b[39mlinalg\u001b[38;5;241m.\u001b[39minv(S\u001b[38;5;129m@rho\u001b[39m\u001b[38;5;129m@S\u001b[39m)\u001b[38;5;129m@one\u001b[39m\n",
      "File \u001b[0;32m/opt/anaconda3/envs/py310/lib/python3.10/site-packages/numpy/linalg/_linalg.py:609\u001b[0m, in \u001b[0;36minv\u001b[0;34m(a)\u001b[0m\n\u001b[1;32m    606\u001b[0m signature \u001b[38;5;241m=\u001b[39m \u001b[38;5;124m'\u001b[39m\u001b[38;5;124mD->D\u001b[39m\u001b[38;5;124m'\u001b[39m \u001b[38;5;28;01mif\u001b[39;00m isComplexType(t) \u001b[38;5;28;01melse\u001b[39;00m \u001b[38;5;124m'\u001b[39m\u001b[38;5;124md->d\u001b[39m\u001b[38;5;124m'\u001b[39m\n\u001b[1;32m    607\u001b[0m \u001b[38;5;28;01mwith\u001b[39;00m errstate(call\u001b[38;5;241m=\u001b[39m_raise_linalgerror_singular, invalid\u001b[38;5;241m=\u001b[39m\u001b[38;5;124m'\u001b[39m\u001b[38;5;124mcall\u001b[39m\u001b[38;5;124m'\u001b[39m,\n\u001b[1;32m    608\u001b[0m               over\u001b[38;5;241m=\u001b[39m\u001b[38;5;124m'\u001b[39m\u001b[38;5;124mignore\u001b[39m\u001b[38;5;124m'\u001b[39m, divide\u001b[38;5;241m=\u001b[39m\u001b[38;5;124m'\u001b[39m\u001b[38;5;124mignore\u001b[39m\u001b[38;5;124m'\u001b[39m, under\u001b[38;5;241m=\u001b[39m\u001b[38;5;124m'\u001b[39m\u001b[38;5;124mignore\u001b[39m\u001b[38;5;124m'\u001b[39m):\n\u001b[0;32m--> 609\u001b[0m     ainv \u001b[38;5;241m=\u001b[39m \u001b[43m_umath_linalg\u001b[49m\u001b[38;5;241;43m.\u001b[39;49m\u001b[43minv\u001b[49m\u001b[43m(\u001b[49m\u001b[43ma\u001b[49m\u001b[43m,\u001b[49m\u001b[43m \u001b[49m\u001b[43msignature\u001b[49m\u001b[38;5;241;43m=\u001b[39;49m\u001b[43msignature\u001b[49m\u001b[43m)\u001b[49m\n\u001b[1;32m    610\u001b[0m \u001b[38;5;28;01mreturn\u001b[39;00m wrap(ainv\u001b[38;5;241m.\u001b[39mastype(result_t, copy\u001b[38;5;241m=\u001b[39m\u001b[38;5;28;01mFalse\u001b[39;00m))\n",
      "File \u001b[0;32m/opt/anaconda3/envs/py310/lib/python3.10/site-packages/numpy/linalg/_linalg.py:104\u001b[0m, in \u001b[0;36m_raise_linalgerror_singular\u001b[0;34m(err, flag)\u001b[0m\n\u001b[1;32m    103\u001b[0m \u001b[38;5;28;01mdef\u001b[39;00m \u001b[38;5;21m_raise_linalgerror_singular\u001b[39m(err, flag):\n\u001b[0;32m--> 104\u001b[0m     \u001b[38;5;28;01mraise\u001b[39;00m LinAlgError(\u001b[38;5;124m\"\u001b[39m\u001b[38;5;124mSingular matrix\u001b[39m\u001b[38;5;124m\"\u001b[39m)\n",
      "\u001b[0;31mLinAlgError\u001b[0m: Singular matrix"
     ]
    }
   ],
   "source": [
    "#define A, B, C:\n",
    "A = one.T@np.linalg.inv(S@rho@S)@one\n",
    "A = A[0,0].item() #.item() is to convert numpy float to regular float\n",
    "B = mu.T@np.linalg.inv(S@rho@S)@one\n",
    "B = B[0,0].item()\n",
    "C = mu.T@np.linalg.inv(S@rho@S)@mu\n",
    "C = C[0,0].item()"
   ]
  },
  {
   "cell_type": "markdown",
   "id": "475851d9-d3d6-4501-9084-ee8237893e5e",
   "metadata": {},
   "source": [
    "This rho doesn't have an inverse, here is a problem."
   ]
  },
  {
   "cell_type": "code",
   "execution_count": null,
   "id": "cb4af736-20b5-452c-ac96-dcd2f54fbf5a",
   "metadata": {},
   "outputs": [],
   "source": []
  }
 ],
 "metadata": {
  "kernelspec": {
   "display_name": "Python 3 (ipykernel)",
   "language": "python",
   "name": "python3"
  },
  "language_info": {
   "codemirror_mode": {
    "name": "ipython",
    "version": 3
   },
   "file_extension": ".py",
   "mimetype": "text/x-python",
   "name": "python",
   "nbconvert_exporter": "python",
   "pygments_lexer": "ipython3",
   "version": "3.10.16"
  }
 },
 "nbformat": 4,
 "nbformat_minor": 5
}
